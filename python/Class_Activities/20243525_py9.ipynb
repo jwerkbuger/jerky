{
  "nbformat": 4,
  "nbformat_minor": 0,
  "metadata": {
    "colab": {
      "provenance": []
    },
    "kernelspec": {
      "name": "python3",
      "display_name": "Python 3"
    },
    "language_info": {
      "name": "python"
    }
  },
  "cells": [
    {
      "cell_type": "code",
      "execution_count": null,
      "metadata": {
        "colab": {
          "base_uri": "https://localhost:8080/",
          "height": 94
        },
        "id": "Fk8bk1cusm2O",
        "outputId": "f424e123-5e67-4d55-e757-8b46a3baf38c"
      },
      "outputs": [
        {
          "output_type": "display_data",
          "data": {
            "text/plain": [
              "<IPython.core.display.HTML object>"
            ],
            "text/html": [
              "\n",
              "     <input type=\"file\" id=\"files-9a93b397-bd06-4ad7-85fc-970f2f834dd1\" name=\"files[]\" multiple disabled\n",
              "        style=\"border:none\" />\n",
              "     <output id=\"result-9a93b397-bd06-4ad7-85fc-970f2f834dd1\">\n",
              "      Upload widget is only available when the cell has been executed in the\n",
              "      current browser session. Please rerun this cell to enable.\n",
              "      </output>\n",
              "      <script>// Copyright 2017 Google LLC\n",
              "//\n",
              "// Licensed under the Apache License, Version 2.0 (the \"License\");\n",
              "// you may not use this file except in compliance with the License.\n",
              "// You may obtain a copy of the License at\n",
              "//\n",
              "//      http://www.apache.org/licenses/LICENSE-2.0\n",
              "//\n",
              "// Unless required by applicable law or agreed to in writing, software\n",
              "// distributed under the License is distributed on an \"AS IS\" BASIS,\n",
              "// WITHOUT WARRANTIES OR CONDITIONS OF ANY KIND, either express or implied.\n",
              "// See the License for the specific language governing permissions and\n",
              "// limitations under the License.\n",
              "\n",
              "/**\n",
              " * @fileoverview Helpers for google.colab Python module.\n",
              " */\n",
              "(function(scope) {\n",
              "function span(text, styleAttributes = {}) {\n",
              "  const element = document.createElement('span');\n",
              "  element.textContent = text;\n",
              "  for (const key of Object.keys(styleAttributes)) {\n",
              "    element.style[key] = styleAttributes[key];\n",
              "  }\n",
              "  return element;\n",
              "}\n",
              "\n",
              "// Max number of bytes which will be uploaded at a time.\n",
              "const MAX_PAYLOAD_SIZE = 100 * 1024;\n",
              "\n",
              "function _uploadFiles(inputId, outputId) {\n",
              "  const steps = uploadFilesStep(inputId, outputId);\n",
              "  const outputElement = document.getElementById(outputId);\n",
              "  // Cache steps on the outputElement to make it available for the next call\n",
              "  // to uploadFilesContinue from Python.\n",
              "  outputElement.steps = steps;\n",
              "\n",
              "  return _uploadFilesContinue(outputId);\n",
              "}\n",
              "\n",
              "// This is roughly an async generator (not supported in the browser yet),\n",
              "// where there are multiple asynchronous steps and the Python side is going\n",
              "// to poll for completion of each step.\n",
              "// This uses a Promise to block the python side on completion of each step,\n",
              "// then passes the result of the previous step as the input to the next step.\n",
              "function _uploadFilesContinue(outputId) {\n",
              "  const outputElement = document.getElementById(outputId);\n",
              "  const steps = outputElement.steps;\n",
              "\n",
              "  const next = steps.next(outputElement.lastPromiseValue);\n",
              "  return Promise.resolve(next.value.promise).then((value) => {\n",
              "    // Cache the last promise value to make it available to the next\n",
              "    // step of the generator.\n",
              "    outputElement.lastPromiseValue = value;\n",
              "    return next.value.response;\n",
              "  });\n",
              "}\n",
              "\n",
              "/**\n",
              " * Generator function which is called between each async step of the upload\n",
              " * process.\n",
              " * @param {string} inputId Element ID of the input file picker element.\n",
              " * @param {string} outputId Element ID of the output display.\n",
              " * @return {!Iterable<!Object>} Iterable of next steps.\n",
              " */\n",
              "function* uploadFilesStep(inputId, outputId) {\n",
              "  const inputElement = document.getElementById(inputId);\n",
              "  inputElement.disabled = false;\n",
              "\n",
              "  const outputElement = document.getElementById(outputId);\n",
              "  outputElement.innerHTML = '';\n",
              "\n",
              "  const pickedPromise = new Promise((resolve) => {\n",
              "    inputElement.addEventListener('change', (e) => {\n",
              "      resolve(e.target.files);\n",
              "    });\n",
              "  });\n",
              "\n",
              "  const cancel = document.createElement('button');\n",
              "  inputElement.parentElement.appendChild(cancel);\n",
              "  cancel.textContent = 'Cancel upload';\n",
              "  const cancelPromise = new Promise((resolve) => {\n",
              "    cancel.onclick = () => {\n",
              "      resolve(null);\n",
              "    };\n",
              "  });\n",
              "\n",
              "  // Wait for the user to pick the files.\n",
              "  const files = yield {\n",
              "    promise: Promise.race([pickedPromise, cancelPromise]),\n",
              "    response: {\n",
              "      action: 'starting',\n",
              "    }\n",
              "  };\n",
              "\n",
              "  cancel.remove();\n",
              "\n",
              "  // Disable the input element since further picks are not allowed.\n",
              "  inputElement.disabled = true;\n",
              "\n",
              "  if (!files) {\n",
              "    return {\n",
              "      response: {\n",
              "        action: 'complete',\n",
              "      }\n",
              "    };\n",
              "  }\n",
              "\n",
              "  for (const file of files) {\n",
              "    const li = document.createElement('li');\n",
              "    li.append(span(file.name, {fontWeight: 'bold'}));\n",
              "    li.append(span(\n",
              "        `(${file.type || 'n/a'}) - ${file.size} bytes, ` +\n",
              "        `last modified: ${\n",
              "            file.lastModifiedDate ? file.lastModifiedDate.toLocaleDateString() :\n",
              "                                    'n/a'} - `));\n",
              "    const percent = span('0% done');\n",
              "    li.appendChild(percent);\n",
              "\n",
              "    outputElement.appendChild(li);\n",
              "\n",
              "    const fileDataPromise = new Promise((resolve) => {\n",
              "      const reader = new FileReader();\n",
              "      reader.onload = (e) => {\n",
              "        resolve(e.target.result);\n",
              "      };\n",
              "      reader.readAsArrayBuffer(file);\n",
              "    });\n",
              "    // Wait for the data to be ready.\n",
              "    let fileData = yield {\n",
              "      promise: fileDataPromise,\n",
              "      response: {\n",
              "        action: 'continue',\n",
              "      }\n",
              "    };\n",
              "\n",
              "    // Use a chunked sending to avoid message size limits. See b/62115660.\n",
              "    let position = 0;\n",
              "    do {\n",
              "      const length = Math.min(fileData.byteLength - position, MAX_PAYLOAD_SIZE);\n",
              "      const chunk = new Uint8Array(fileData, position, length);\n",
              "      position += length;\n",
              "\n",
              "      const base64 = btoa(String.fromCharCode.apply(null, chunk));\n",
              "      yield {\n",
              "        response: {\n",
              "          action: 'append',\n",
              "          file: file.name,\n",
              "          data: base64,\n",
              "        },\n",
              "      };\n",
              "\n",
              "      let percentDone = fileData.byteLength === 0 ?\n",
              "          100 :\n",
              "          Math.round((position / fileData.byteLength) * 100);\n",
              "      percent.textContent = `${percentDone}% done`;\n",
              "\n",
              "    } while (position < fileData.byteLength);\n",
              "  }\n",
              "\n",
              "  // All done.\n",
              "  yield {\n",
              "    response: {\n",
              "      action: 'complete',\n",
              "    }\n",
              "  };\n",
              "}\n",
              "\n",
              "scope.google = scope.google || {};\n",
              "scope.google.colab = scope.google.colab || {};\n",
              "scope.google.colab._files = {\n",
              "  _uploadFiles,\n",
              "  _uploadFilesContinue,\n",
              "};\n",
              "})(self);\n",
              "</script> "
            ]
          },
          "metadata": {}
        },
        {
          "output_type": "stream",
          "name": "stdout",
          "text": [
            "Saving data.txt to data.txt\n"
          ]
        },
        {
          "output_type": "execute_result",
          "data": {
            "text/plain": [
              "{'data.txt': b'26\\r\\n17\\r\\n30\\r\\n34\\r\\n15\\r\\n97\\r\\n21\\r\\n92\\r\\n87\\r\\n71\\r\\n94\\r\\n11\\r\\n67'}"
            ]
          },
          "metadata": {},
          "execution_count": 2
        }
      ],
      "source": [
        "from google.colab import files\n",
        "files.upload()"
      ]
    },
    {
      "cell_type": "code",
      "source": [
        "with open(\"data.txt\",\"r\") as file :\n",
        "  lines = file.readlines()\n",
        "\n",
        "  count = 0\n",
        "  total = 0\n",
        "\n",
        "  for number_str in lines :\n",
        "    number = int(number_str.rstrip())\n",
        "    total += number\n",
        "\n",
        "    if number % 2 == 0 :\n",
        "      print(\"짝수 : \" + str(number))\n",
        "    else :\n",
        "      print(\"홀수 : \" + str(number))\n",
        "    count += 1\n",
        "\n",
        "  print(\"정수의 개수\", count)\n",
        "  print(\"정수의 총합\", total)\n",
        "  print(\"정수의 평균 {:.2f}\". format(total / count))\n"
      ],
      "metadata": {
        "colab": {
          "base_uri": "https://localhost:8080/"
        },
        "id": "FggMihcntsuy",
        "outputId": "7a0951cd-0b39-4146-83ab-6e9c0309d369"
      },
      "execution_count": null,
      "outputs": [
        {
          "output_type": "stream",
          "name": "stdout",
          "text": [
            "짝수 : 26\n",
            "홀수 : 17\n",
            "짝수 : 30\n",
            "짝수 : 34\n",
            "홀수 : 15\n",
            "홀수 : 97\n",
            "홀수 : 21\n",
            "짝수 : 92\n",
            "홀수 : 87\n",
            "홀수 : 71\n",
            "짝수 : 94\n",
            "홀수 : 11\n",
            "홀수 : 67\n",
            "정수의 개수 13\n",
            "정수의 총합 662\n",
            "정수의 평균 50.92\n"
          ]
        }
      ]
    },
    {
      "cell_type": "code",
      "source": [
        "#내거\n",
        "with open(\"text.txt\",\"r\") as file :\n",
        "  lines = file.readlines()\n",
        "\n",
        "  print(lines)\n",
        "\n",
        "  count_sen = 0\n",
        "  count_word = 0\n",
        "\n",
        "  for i in lines :\n",
        "    print(i)\n",
        "    count_sen += 1\n",
        "    words = i.split()\n",
        "    for j in words :\n",
        "      count_word += 1\n",
        "\n",
        "  print(count_sen)\n",
        "  print(count_word)"
      ],
      "metadata": {
        "colab": {
          "base_uri": "https://localhost:8080/"
        },
        "id": "5nA-qGgJxkrn",
        "outputId": "ee620e2f-237e-493b-ae98-3bf6b5584a7c"
      },
      "execution_count": null,
      "outputs": [
        {
          "output_type": "stream",
          "name": "stdout",
          "text": [
            "['Hello everyone.\\n', 'This is Hong gildong who is a university student at Soonchunhyang\\n', 'University.\\n', 'I am majoring computer software engineering. Nice to meet you.\\n', 'Have a great day!!']\n",
            "Hello everyone.\n",
            "\n",
            "This is Hong gildong who is a university student at Soonchunhyang\n",
            "\n",
            "University.\n",
            "\n",
            "I am majoring computer software engineering. Nice to meet you.\n",
            "\n",
            "Have a great day!!\n",
            "5\n",
            "28\n"
          ]
        }
      ]
    },
    {
      "cell_type": "code",
      "source": [
        "#교수님\n",
        "with open ('text.txt', 'r') as file :\n",
        "  sentences = file.readlines()\n",
        "\n",
        "print(sentences)\n",
        "\n",
        "sentence_count = len(sentences)\n",
        "word_count = 0\n",
        "\n",
        "for sentence in sentences :\n",
        "  print(sentence.strip())\n",
        "  words = sentence.split()\n",
        "  word_count += len(words)\n",
        "\n",
        "print('문장의 수 : ', sentence_count)\n",
        "print('단어의 수 : ', word_count)\n"
      ],
      "metadata": {
        "id": "9WkDodt3zVdN"
      },
      "execution_count": null,
      "outputs": []
    },
    {
      "cell_type": "code",
      "source": [
        "with open(\"smart_contact.txt\",\"r\") as file :\n",
        "  text = file.read()\n",
        "\n",
        "text = text.lower()\n",
        "words = text.split()\n",
        "\n",
        "print(\"before\",text)\n",
        "import string\n",
        "print(string.punctuation)\n",
        "translator = str.maketrans('', '', string.punctuation)\n",
        "text = text.translate(translator)\n",
        "print(\"after\",text)\n",
        "\n",
        "word_count = {}\n",
        "\n",
        "for word in words :\n",
        "  if word in word_count :\n",
        "    word_count[word] += 1 #딕셔너리에 이미 단어가 등록되어있는 경우\n",
        "  else :\n",
        "    word_count[word] = 1 #딕셔너리에 처음 등록하는 단어인 경우\n",
        "\n",
        "#print(word_count)\n",
        "\n",
        "#sorted_word_count = sorted(word_count.items(), key = lambda x : x[1], reverse = True)\n",
        "#for word, count in sorted_word_count :\n",
        "#  print(count, ' : ', word)"
      ],
      "metadata": {
        "colab": {
          "base_uri": "https://localhost:8080/"
        },
        "id": "Ck9G1xf6z_Fl",
        "outputId": "09b750f8-c20f-4d9c-ec31-6f0f280e3612"
      },
      "execution_count": null,
      "outputs": [
        {
          "output_type": "stream",
          "name": "stdout",
          "text": [
            "{'스마트렌즈는': 1, '초소형': 1, 'led(발광다이오드)': 1, '디스플레이가': 1, '탑재돼': 2, '있으며,': 2, '이를': 1, '통해': 1, '사람의': 1, '눈앞에': 1, '직접': 1, '그림과': 1, '문자를': 1, '띄우는': 1, '것이다.': 1, '착용하기만': 1, '하면,': 1, '눈에': 2, '안전한': 1, '실리콘밸리': 1, '스타트업': 1, \"'모조\": 1, '비전(mojo': 1, \"vision)'은\": 1, '각종': 2, '운동을': 1, '할': 1, '때': 1, '눈의': 1, '움직임을': 1, '더': 1, '정확히': 1, '포착할': 1, '수': 1, '있다고': 1, '설명했다.': 1, '이': 1, '스마트': 1, '렌즈는': 1, '정보가': 1, '실시간으로': 1, '나타나는데,': 1, '예를': 1, '들어': 1, '자전거': 1, '경로': 1, '안내': 1, '앱,': 1, '방향을': 1, '알려주는': 1, '나침반': 1, '앱': 1, '등이': 1, '있다.': 1, \"'스마트\": 1, \"렌즈'는\": 1, '가장자리에': 1, '배터리와': 1, '이미지·동작': 1, '감지': 1, '센서가': 1, '조작은': 1, '시선으로': 1, '한다.': 1, '메뉴가': 1, '펼쳐지고,': 1, '실행을': 1, '원하는': 1, '앱을': 1, '몇': 1, '초간': 1, '응시하면': 1, '작동되는': 1, '식이다.': 1}\n",
            "2  :  탑재돼\n",
            "2  :  있으며,\n",
            "2  :  눈에\n",
            "2  :  각종\n",
            "1  :  스마트렌즈는\n",
            "1  :  초소형\n",
            "1  :  led(발광다이오드)\n",
            "1  :  디스플레이가\n",
            "1  :  이를\n",
            "1  :  통해\n",
            "1  :  사람의\n",
            "1  :  눈앞에\n",
            "1  :  직접\n",
            "1  :  그림과\n",
            "1  :  문자를\n",
            "1  :  띄우는\n",
            "1  :  것이다.\n",
            "1  :  착용하기만\n",
            "1  :  하면,\n",
            "1  :  안전한\n",
            "1  :  실리콘밸리\n",
            "1  :  스타트업\n",
            "1  :  '모조\n",
            "1  :  비전(mojo\n",
            "1  :  vision)'은\n",
            "1  :  운동을\n",
            "1  :  할\n",
            "1  :  때\n",
            "1  :  눈의\n",
            "1  :  움직임을\n",
            "1  :  더\n",
            "1  :  정확히\n",
            "1  :  포착할\n",
            "1  :  수\n",
            "1  :  있다고\n",
            "1  :  설명했다.\n",
            "1  :  이\n",
            "1  :  스마트\n",
            "1  :  렌즈는\n",
            "1  :  정보가\n",
            "1  :  실시간으로\n",
            "1  :  나타나는데,\n",
            "1  :  예를\n",
            "1  :  들어\n",
            "1  :  자전거\n",
            "1  :  경로\n",
            "1  :  안내\n",
            "1  :  앱,\n",
            "1  :  방향을\n",
            "1  :  알려주는\n",
            "1  :  나침반\n",
            "1  :  앱\n",
            "1  :  등이\n",
            "1  :  있다.\n",
            "1  :  '스마트\n",
            "1  :  렌즈'는\n",
            "1  :  가장자리에\n",
            "1  :  배터리와\n",
            "1  :  이미지·동작\n",
            "1  :  감지\n",
            "1  :  센서가\n",
            "1  :  조작은\n",
            "1  :  시선으로\n",
            "1  :  한다.\n",
            "1  :  메뉴가\n",
            "1  :  펼쳐지고,\n",
            "1  :  실행을\n",
            "1  :  원하는\n",
            "1  :  앱을\n",
            "1  :  몇\n",
            "1  :  초간\n",
            "1  :  응시하면\n",
            "1  :  작동되는\n",
            "1  :  식이다.\n"
          ]
        }
      ]
    },
    {
      "cell_type": "code",
      "source": [
        "with open(\"students.txt\",\"r\",encoding = 'utf-8') as file :\n",
        "  lines = file.readlines()\n",
        "\n",
        "print(lines)\n",
        "\n",
        "student_scores = {}\n",
        "\n",
        "for line in lines :\n",
        "  parts = line.strip().split()\n",
        "  name = parts[0]\n",
        "  score = int(parts[1])\n",
        "  student_scores[name] = score\n",
        "\n",
        "print(student_scores)\n",
        "\n",
        "for name in sorted(student_scores) :\n",
        "  print(\"{} : {}\".format(name, student_scores[name]))"
      ],
      "metadata": {
        "colab": {
          "base_uri": "https://localhost:8080/"
        },
        "id": "AUSfOuxJ6AtZ",
        "outputId": "27c737d1-e3b3-4d82-c8ee-b14fc45dbc4f"
      },
      "execution_count": null,
      "outputs": [
        {
          "output_type": "stream",
          "name": "stdout",
          "text": [
            "['손흥민 271\\n', '이영표 237\\n', '강감찬 240\\n', '김유신 260\\n', '박지성 271\\n', '이순신 286\\n', '김연경 241\\n', '박찬호 230\\n', '박세리 246\\n', '김연아 262']\n",
            "{'손흥민': 271, '이영표': 237, '강감찬': 240, '김유신': 260, '박지성': 271, '이순신': 286, '김연경': 241, '박찬호': 230, '박세리': 246, '김연아': 262}\n",
            "강감찬 : 240\n",
            "김연경 : 241\n",
            "김연아 : 262\n",
            "김유신 : 260\n",
            "박세리 : 246\n",
            "박지성 : 271\n",
            "박찬호 : 230\n",
            "손흥민 : 271\n",
            "이순신 : 286\n",
            "이영표 : 237\n"
          ]
        }
      ]
    },
    {
      "cell_type": "code",
      "source": [
        "import csv\n",
        "\n",
        "dates = []\n",
        "rates = []\n",
        "changes = []\n",
        "with open(\"dollar.csv\",\"r\",encoding = 'utf-8') as file :\n",
        "  csv_reader = csv.reader(file)\n",
        "  for index,  row in enumerate(csv_reader) :\n",
        "    if index == 0 :\n",
        "      dates = row\n",
        "    elif index == 1 :\n",
        "      rates = list(map(float,row))\n",
        "    elif index == 2 :\n",
        "      changes = list(map(float,row))\n",
        "\n",
        "min_rates = min(rates)\n",
        "max_rates = max(rates)\n",
        "print(\"최저환율 : {:.2f} 최고환율 : {:.2f}\" .format(min_rates,max_rates))"
      ],
      "metadata": {
        "colab": {
          "base_uri": "https://localhost:8080/"
        },
        "id": "rguNxJ5Z9vNL",
        "outputId": "76996bbc-2d05-4732-d639-1d77dd2ad6ae"
      },
      "execution_count": null,
      "outputs": [
        {
          "output_type": "stream",
          "name": "stdout",
          "text": [
            "최저환율 : 1183.50 최고환율 : 1239.40\n"
          ]
        }
      ]
    },
    {
      "cell_type": "code",
      "source": [
        "while True :\n",
        "  try :\n",
        "    number_input = input('정수를 입력하세요 : ')\n",
        "    number = int(number_input)\n",
        "    print(\"정수입력을 성공했습니다.\")\n",
        "    break\n",
        "  except ValueError :\n",
        "    print(\"정수가 아닙니다. 다시 입력하세요.\")"
      ],
      "metadata": {
        "colab": {
          "base_uri": "https://localhost:8080/"
        },
        "id": "Cw9EOloi-vMg",
        "outputId": "0f6f0dc8-0ab1-4c4d-ce5b-0a5e9457c6a9"
      },
      "execution_count": null,
      "outputs": [
        {
          "output_type": "stream",
          "name": "stdout",
          "text": [
            "정수를 입력하세요 : ㅇ\n",
            "정수가 아닙니다. 다시 입력하세요.\n",
            "정수를 입력하세요 : 0.1\n",
            "정수가 아닙니다. 다시 입력하세요.\n",
            "정수를 입력하세요 : fa\n",
            "정수가 아닙니다. 다시 입력하세요.\n",
            "정수를 입력하세요 : 2\n",
            "정수입력을 성공했습니다.\n"
          ]
        }
      ]
    }
  ]
}