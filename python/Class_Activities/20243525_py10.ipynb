{
  "nbformat": 4,
  "nbformat_minor": 0,
  "metadata": {
    "colab": {
      "provenance": []
    },
    "kernelspec": {
      "name": "python3",
      "display_name": "Python 3"
    },
    "language_info": {
      "name": "python"
    }
  },
  "cells": [
    {
      "cell_type": "code",
      "source": [
        "from google.colab import files\n",
        "files.upload()"
      ],
      "metadata": {
        "colab": {
          "base_uri": "https://localhost:8080/",
          "height": 517
        },
        "id": "gwtJupF0x8IY",
        "outputId": "9996ee62-1a4e-432d-cd65-85126bec42d2"
      },
      "execution_count": null,
      "outputs": [
        {
          "output_type": "display_data",
          "data": {
            "text/plain": [
              "<IPython.core.display.HTML object>"
            ],
            "text/html": [
              "\n",
              "     <input type=\"file\" id=\"files-db65f25c-ca42-4c66-9df4-59902de4bdf8\" name=\"files[]\" multiple disabled\n",
              "        style=\"border:none\" />\n",
              "     <output id=\"result-db65f25c-ca42-4c66-9df4-59902de4bdf8\">\n",
              "      Upload widget is only available when the cell has been executed in the\n",
              "      current browser session. Please rerun this cell to enable.\n",
              "      </output>\n",
              "      <script>// Copyright 2017 Google LLC\n",
              "//\n",
              "// Licensed under the Apache License, Version 2.0 (the \"License\");\n",
              "// you may not use this file except in compliance with the License.\n",
              "// You may obtain a copy of the License at\n",
              "//\n",
              "//      http://www.apache.org/licenses/LICENSE-2.0\n",
              "//\n",
              "// Unless required by applicable law or agreed to in writing, software\n",
              "// distributed under the License is distributed on an \"AS IS\" BASIS,\n",
              "// WITHOUT WARRANTIES OR CONDITIONS OF ANY KIND, either express or implied.\n",
              "// See the License for the specific language governing permissions and\n",
              "// limitations under the License.\n",
              "\n",
              "/**\n",
              " * @fileoverview Helpers for google.colab Python module.\n",
              " */\n",
              "(function(scope) {\n",
              "function span(text, styleAttributes = {}) {\n",
              "  const element = document.createElement('span');\n",
              "  element.textContent = text;\n",
              "  for (const key of Object.keys(styleAttributes)) {\n",
              "    element.style[key] = styleAttributes[key];\n",
              "  }\n",
              "  return element;\n",
              "}\n",
              "\n",
              "// Max number of bytes which will be uploaded at a time.\n",
              "const MAX_PAYLOAD_SIZE = 100 * 1024;\n",
              "\n",
              "function _uploadFiles(inputId, outputId) {\n",
              "  const steps = uploadFilesStep(inputId, outputId);\n",
              "  const outputElement = document.getElementById(outputId);\n",
              "  // Cache steps on the outputElement to make it available for the next call\n",
              "  // to uploadFilesContinue from Python.\n",
              "  outputElement.steps = steps;\n",
              "\n",
              "  return _uploadFilesContinue(outputId);\n",
              "}\n",
              "\n",
              "// This is roughly an async generator (not supported in the browser yet),\n",
              "// where there are multiple asynchronous steps and the Python side is going\n",
              "// to poll for completion of each step.\n",
              "// This uses a Promise to block the python side on completion of each step,\n",
              "// then passes the result of the previous step as the input to the next step.\n",
              "function _uploadFilesContinue(outputId) {\n",
              "  const outputElement = document.getElementById(outputId);\n",
              "  const steps = outputElement.steps;\n",
              "\n",
              "  const next = steps.next(outputElement.lastPromiseValue);\n",
              "  return Promise.resolve(next.value.promise).then((value) => {\n",
              "    // Cache the last promise value to make it available to the next\n",
              "    // step of the generator.\n",
              "    outputElement.lastPromiseValue = value;\n",
              "    return next.value.response;\n",
              "  });\n",
              "}\n",
              "\n",
              "/**\n",
              " * Generator function which is called between each async step of the upload\n",
              " * process.\n",
              " * @param {string} inputId Element ID of the input file picker element.\n",
              " * @param {string} outputId Element ID of the output display.\n",
              " * @return {!Iterable<!Object>} Iterable of next steps.\n",
              " */\n",
              "function* uploadFilesStep(inputId, outputId) {\n",
              "  const inputElement = document.getElementById(inputId);\n",
              "  inputElement.disabled = false;\n",
              "\n",
              "  const outputElement = document.getElementById(outputId);\n",
              "  outputElement.innerHTML = '';\n",
              "\n",
              "  const pickedPromise = new Promise((resolve) => {\n",
              "    inputElement.addEventListener('change', (e) => {\n",
              "      resolve(e.target.files);\n",
              "    });\n",
              "  });\n",
              "\n",
              "  const cancel = document.createElement('button');\n",
              "  inputElement.parentElement.appendChild(cancel);\n",
              "  cancel.textContent = 'Cancel upload';\n",
              "  const cancelPromise = new Promise((resolve) => {\n",
              "    cancel.onclick = () => {\n",
              "      resolve(null);\n",
              "    };\n",
              "  });\n",
              "\n",
              "  // Wait for the user to pick the files.\n",
              "  const files = yield {\n",
              "    promise: Promise.race([pickedPromise, cancelPromise]),\n",
              "    response: {\n",
              "      action: 'starting',\n",
              "    }\n",
              "  };\n",
              "\n",
              "  cancel.remove();\n",
              "\n",
              "  // Disable the input element since further picks are not allowed.\n",
              "  inputElement.disabled = true;\n",
              "\n",
              "  if (!files) {\n",
              "    return {\n",
              "      response: {\n",
              "        action: 'complete',\n",
              "      }\n",
              "    };\n",
              "  }\n",
              "\n",
              "  for (const file of files) {\n",
              "    const li = document.createElement('li');\n",
              "    li.append(span(file.name, {fontWeight: 'bold'}));\n",
              "    li.append(span(\n",
              "        `(${file.type || 'n/a'}) - ${file.size} bytes, ` +\n",
              "        `last modified: ${\n",
              "            file.lastModifiedDate ? file.lastModifiedDate.toLocaleDateString() :\n",
              "                                    'n/a'} - `));\n",
              "    const percent = span('0% done');\n",
              "    li.appendChild(percent);\n",
              "\n",
              "    outputElement.appendChild(li);\n",
              "\n",
              "    const fileDataPromise = new Promise((resolve) => {\n",
              "      const reader = new FileReader();\n",
              "      reader.onload = (e) => {\n",
              "        resolve(e.target.result);\n",
              "      };\n",
              "      reader.readAsArrayBuffer(file);\n",
              "    });\n",
              "    // Wait for the data to be ready.\n",
              "    let fileData = yield {\n",
              "      promise: fileDataPromise,\n",
              "      response: {\n",
              "        action: 'continue',\n",
              "      }\n",
              "    };\n",
              "\n",
              "    // Use a chunked sending to avoid message size limits. See b/62115660.\n",
              "    let position = 0;\n",
              "    do {\n",
              "      const length = Math.min(fileData.byteLength - position, MAX_PAYLOAD_SIZE);\n",
              "      const chunk = new Uint8Array(fileData, position, length);\n",
              "      position += length;\n",
              "\n",
              "      const base64 = btoa(String.fromCharCode.apply(null, chunk));\n",
              "      yield {\n",
              "        response: {\n",
              "          action: 'append',\n",
              "          file: file.name,\n",
              "          data: base64,\n",
              "        },\n",
              "      };\n",
              "\n",
              "      let percentDone = fileData.byteLength === 0 ?\n",
              "          100 :\n",
              "          Math.round((position / fileData.byteLength) * 100);\n",
              "      percent.textContent = `${percentDone}% done`;\n",
              "\n",
              "    } while (position < fileData.byteLength);\n",
              "  }\n",
              "\n",
              "  // All done.\n",
              "  yield {\n",
              "    response: {\n",
              "      action: 'complete',\n",
              "    }\n",
              "  };\n",
              "}\n",
              "\n",
              "scope.google = scope.google || {};\n",
              "scope.google.colab = scope.google.colab || {};\n",
              "scope.google.colab._files = {\n",
              "  _uploadFiles,\n",
              "  _uploadFilesContinue,\n",
              "};\n",
              "})(self);\n",
              "</script> "
            ]
          },
          "metadata": {}
        },
        {
          "output_type": "stream",
          "name": "stdout",
          "text": [
            "Saving sample2.txt to sample2.txt\n"
          ]
        },
        {
          "output_type": "execute_result",
          "data": {
            "text/plain": [
              "{'sample2.txt': b'\\xea\\xb0\\x80\\xec\\x83\\x81\\xed\\x98\\x84\\xec\\x8b\\xa4\\xea\\xb3\\xbc \\xec\\xa6\\x9d\\xea\\xb0\\x95\\xed\\x98\\x84\\xec\\x8b\\xa4 \\xea\\xb8\\xb0\\xec\\x88\\xa0\\xec\\x9d\\xb4 \\xeb\\xb0\\x9c\\xec\\xa0\\x84\\xed\\x95\\x98\\xeb\\xa9\\xb4\\xec\\x84\\x9c, \\xec\\x9a\\xb0\\xeb\\xa6\\xac\\xeb\\x8a\\x94 \\xec\\x83\\x88\\xeb\\xa1\\x9c\\xec\\x9a\\xb4 \\xed\\x98\\x95\\xed\\x83\\x9c\\xec\\x9d\\x98 \\xed\\x98\\x84\\xec\\x8b\\xa4\\xec\\x9d\\x84 \\xea\\xb2\\xbd\\xed\\x97\\x98\\xed\\x95\\x98\\xea\\xb3\\xa0 \\xec\\x9e\\x88\\xeb\\x8b\\xa4.\\r\\n\\xea\\xb0\\x80\\xec\\x83\\x81\\xed\\x98\\x84\\xec\\x8b\\xa4\\xec\\x9d\\x80 \\xec\\x9a\\xb0\\xeb\\xa6\\xac\\xea\\xb0\\x80 \\xec\\x83\\x81\\xec\\x83\\x81\\xed\\x95\\x98\\xeb\\x8d\\x98 \\xeb\\xa7\\x8e\\xec\\x9d\\x80 \\xea\\xb2\\x83\\xeb\\x93\\xa4\\xec\\x9d\\x84 \\xea\\xb0\\x80\\xeb\\x8a\\xa5\\xed\\x95\\x98\\xea\\xb2\\x8c \\xeb\\xa7\\x8c\\xeb\\x93\\xa4\\xec\\x97\\x88\\xeb\\x8b\\xa4.\\r\\n\\xec\\x98\\x88\\xeb\\xa5\\xbc \\xeb\\x93\\xa4\\xec\\x96\\xb4, \\xec\\x9a\\xb0\\xeb\\xa6\\xac\\xeb\\x8a\\x94 \\xec\\xa7\\x91\\xec\\x97\\x90\\xec\\x84\\x9c \\xed\\x8e\\xb8\\xec\\x95\\x88\\xed\\x95\\x98\\xea\\xb2\\x8c \\xec\\x95\\x89\\xec\\x95\\x84 \\xec\\xa0\\x84 \\xec\\x84\\xb8\\xea\\xb3\\x84\\xeb\\xa5\\xbc \\xec\\x97\\xac\\xed\\x96\\x89\\xed\\x95\\xa0 \\xec\\x88\\x98 \\xec\\x9e\\x88\\xeb\\x8b\\xa4.\\r\\n\\xeb\\x98\\x90\\xed\\x95\\x9c \\xec\\xa6\\x9d\\xea\\xb0\\x95\\xed\\x98\\x84\\xec\\x8b\\xa4\\xec\\x9d\\x84 \\xed\\x86\\xb5\\xed\\x95\\xb4 \\xec\\x9a\\xb0\\xeb\\xa6\\xac\\xeb\\x8a\\x94 \\xed\\x98\\x84\\xec\\x8b\\xa4 \\xec\\x84\\xb8\\xea\\xb3\\x84\\xec\\x97\\x90 \\xec\\x83\\x88\\xeb\\xa1\\x9c\\xec\\x9a\\xb4 \\xec\\xa0\\x95\\xeb\\xb3\\xb4\\xeb\\xa5\\xbc \\xeb\\x8d\\xa7\\xeb\\xb6\\x99\\xec\\x97\\xac \\xeb\\xb3\\xbc \\xec\\x88\\x98 \\xec\\x9e\\x88\\xeb\\x8b\\xa4.\\r\\n\\xec\\x9d\\xb4\\xeb\\x9f\\xac\\xed\\x95\\x9c \\xea\\xb8\\xb0\\xec\\x88\\xa0\\xeb\\x93\\xa4\\xec\\x9d\\x80 \\xec\\x9a\\xb0\\xeb\\xa6\\xac\\xec\\x9d\\x98 \\xec\\x9d\\xbc\\xec\\x83\\x81 \\xec\\x83\\x9d\\xed\\x99\\x9c\\xec\\x9d\\x84 \\xed\\x81\\xac\\xea\\xb2\\x8c \\xeb\\xb3\\x80\\xed\\x99\\x94\\xec\\x8b\\x9c\\xed\\x82\\xa4\\xea\\xb3\\xa0 \\xec\\x9e\\x88\\xeb\\x8b\\xa4.\\r\\n\\xea\\xb0\\x80\\xec\\x83\\x81\\xed\\x98\\x84\\xec\\x8b\\xa4\\xea\\xb3\\xbc \\xec\\xa6\\x9d\\xea\\xb0\\x95\\xed\\x98\\x84\\xec\\x8b\\xa4 \\xea\\xb8\\xb0\\xec\\x88\\xa0\\xec\\x9d\\x80 \\xea\\xb5\\x90\\xec\\x9c\\xa1, \\xec\\x9d\\x98\\xeb\\xa3\\x8c, \\xec\\x97\\x94\\xed\\x84\\xb0\\xed\\x85\\x8c\\xec\\x9d\\xb8\\xeb\\xa8\\xbc\\xed\\x8a\\xb8 \\xeb\\x93\\xb1 \\xeb\\x8b\\xa4\\xec\\x96\\x91\\xed\\x95\\x9c \\xeb\\xb6\\x84\\xec\\x95\\xbc\\xec\\x97\\x90\\xec\\x84\\x9c \\xed\\x99\\x9c\\xec\\x9a\\xa9\\xeb\\x90\\x98\\xea\\xb3\\xa0 \\xec\\x9e\\x88\\xeb\\x8b\\xa4.\\r\\n\\xec\\x98\\x88\\xeb\\xa5\\xbc \\xeb\\x93\\xa4\\xec\\x96\\xb4, \\xec\\x9d\\x98\\xec\\x82\\xac\\xeb\\x93\\xa4\\xec\\x9d\\x80 \\xea\\xb0\\x80\\xec\\x83\\x81\\xed\\x98\\x84\\xec\\x8b\\xa4\\xec\\x9d\\x84 \\xed\\x86\\xb5\\xed\\x95\\xb4 \\xec\\x88\\x98\\xec\\x88\\xa0\\xec\\x9d\\x84 \\xec\\x97\\xb0\\xec\\x8a\\xb5\\xed\\x95\\xa0 \\xec\\x88\\x98 \\xec\\x9e\\x88\\xec\\x9c\\xbc\\xeb\\xa9\\xb0, \\xed\\x95\\x99\\xec\\x83\\x9d\\xeb\\x93\\xa4\\xec\\x9d\\x80 \\xec\\xa6\\x9d\\xea\\xb0\\x95\\xed\\x98\\x84\\xec\\x8b\\xa4\\xec\\x9d\\x84 \\xed\\x86\\xb5\\xed\\x95\\xb4 \\xeb\\x8d\\x94 \\xec\\x83\\x9d\\xec\\x83\\x9d\\xed\\x95\\x98\\xea\\xb2\\x8c \\xed\\x95\\x99\\xec\\x8a\\xb5\\xed\\x95\\xa0 \\xec\\x88\\x98 \\xec\\x9e\\x88\\xeb\\x8b\\xa4.\\r\\n\\xec\\x9d\\xb4\\xeb\\x9f\\xac\\xed\\x95\\x9c \\xea\\xb8\\xb0\\xec\\x88\\xa0\\xeb\\x93\\xa4\\xec\\x9d\\x80 \\xec\\x9a\\xb0\\xeb\\xa6\\xac\\xec\\x9d\\x98 \\xec\\x82\\xb6\\xec\\x9d\\x84 \\xeb\\x8d\\x94\\xec\\x9a\\xb1 \\xed\\x92\\x8d\\xec\\x9a\\x94\\xeb\\xa1\\xad\\xea\\xb2\\x8c \\xeb\\xa7\\x8c\\xeb\\x93\\xa4\\xea\\xb3\\xa0 \\xec\\x9e\\x88\\xeb\\x8b\\xa4.\\r\\n\\xed\\x95\\x98\\xec\\xa7\\x80\\xeb\\xa7\\x8c \\xec\\x9d\\xb4\\xeb\\x9f\\xac\\xed\\x95\\x9c \\xea\\xb8\\xb0\\xec\\x88\\xa0\\xeb\\x93\\xa4\\xeb\\x8f\\x84 \\xeb\\xaa\\x87 \\xea\\xb0\\x80\\xec\\xa7\\x80 \\xeb\\xac\\xb8\\xec\\xa0\\x9c\\xeb\\xa5\\xbc \\xea\\xb0\\x80\\xec\\xa7\\x80\\xea\\xb3\\xa0 \\xec\\x9e\\x88\\xeb\\x8b\\xa4.\\r\\n\\xec\\x98\\x88\\xeb\\xa5\\xbc \\xeb\\x93\\xa4\\xec\\x96\\xb4, \\xea\\xb0\\x80\\xec\\x83\\x81\\xed\\x98\\x84\\xec\\x8b\\xa4\\xec\\x9d\\x84 \\xeb\\x84\\x88\\xeb\\xac\\xb4 \\xeb\\xa7\\x8e\\xec\\x9d\\xb4 \\xec\\x82\\xac\\xec\\x9a\\xa9\\xed\\x95\\x98\\xeb\\xa9\\xb4 \\xed\\x98\\x84\\xec\\x8b\\xa4 \\xec\\x84\\xb8\\xea\\xb3\\x84\\xec\\x99\\x80\\xec\\x9d\\x98 \\xeb\\x8b\\xa8\\xec\\xa0\\x88\\xec\\x9d\\x84 \\xec\\xb4\\x88\\xeb\\x9e\\x98\\xed\\x95\\xa0 \\xec\\x88\\x98 \\xec\\x9e\\x88\\xeb\\x8b\\xa4.\\r\\n\\xeb\\x98\\x90\\xed\\x95\\x9c, \\xec\\xa6\\x9d\\xea\\xb0\\x95\\xed\\x98\\x84\\xec\\x8b\\xa4\\xec\\x9d\\x84 \\xed\\x86\\xb5\\xed\\x95\\xb4 \\xec\\x96\\xbb\\xec\\x9d\\x80 \\xec\\xa0\\x95\\xeb\\xb3\\xb4\\xea\\xb0\\x80 \\xed\\x95\\xad\\xec\\x83\\x81 \\xec\\xa0\\x95\\xed\\x99\\x95\\xed\\x95\\x9c \\xea\\xb2\\x83\\xec\\x9d\\x80 \\xec\\x95\\x84\\xeb\\x8b\\x88\\xea\\xb8\\xb0 \\xeb\\x95\\x8c\\xeb\\xac\\xb8\\xec\\x97\\x90, \\xec\\x9d\\xb4\\xeb\\x8a\\x94 \\xec\\x9e\\x98\\xeb\\xaa\\xbb\\xeb\\x90\\x9c \\xed\\x8c\\x90\\xeb\\x8b\\xa8\\xec\\x9d\\x84 \\xeb\\x82\\xb4\\xeb\\xa6\\xac\\xea\\xb2\\x8c \\xed\\x95\\xa0 \\xec\\x88\\x98 \\xec\\x9e\\x88\\xeb\\x8b\\xa4.\\r\\n\\xeb\\x94\\xb0\\xeb\\x9d\\xbc\\xec\\x84\\x9c \\xec\\x9a\\xb0\\xeb\\xa6\\xac\\xeb\\x8a\\x94 \\xec\\x9d\\xb4\\xeb\\x9f\\xac\\xed\\x95\\x9c \\xea\\xb8\\xb0\\xec\\x88\\xa0\\xeb\\x93\\xa4\\xec\\x9d\\x84 \\xed\\x98\\x84\\xeb\\xaa\\x85\\xed\\x95\\x98\\xea\\xb2\\x8c \\xec\\x82\\xac\\xec\\x9a\\xa9\\xed\\x95\\xb4\\xec\\x95\\xbc \\xed\\x95\\x9c\\xeb\\x8b\\xa4.'}"
            ]
          },
          "metadata": {},
          "execution_count": 18
        }
      ]
    },
    {
      "cell_type": "markdown",
      "source": [
        "1. 파일 오픈\n",
        "아이디, 패스워드 저장 -> 튜플 데이터 타입으로\n",
        "2. 반복문\n",
        "  2-1. 아이디 입력\n",
        "  2-2. 패스워드 입력\n",
        "3. 아이디, 패스워드 체크\n",
        "  3-1. 성공 시 로그인\n",
        "  3-2. 실패 시 다시 입력"
      ],
      "metadata": {
        "id": "gAZ1AHKGyNtQ"
      }
    },
    {
      "cell_type": "code",
      "execution_count": null,
      "metadata": {
        "colab": {
          "base_uri": "https://localhost:8080/"
        },
        "id": "JaTwfzKXqz3Y",
        "outputId": "8df3b8ea-5d40-4178-bbc2-4589aa9de1c8"
      },
      "outputs": [
        {
          "output_type": "stream",
          "name": "stdout",
          "text": [
            "관리자 정보를 성공적으로 조회했습니다.\n",
            "아이디 입력: kimsy00\n",
            "비밀번호 입력: 1234abcd\n",
            "로그인에 성공하였습니다.\n"
          ]
        }
      ],
      "source": [
        "#  실습 문제1\n",
        "\n",
        "admin = []\n",
        "\n",
        "#파일 오픈\n",
        "with open('password.txt', 'r', encoding='utf-8') as file:\n",
        "  lines = file.readlines()\n",
        "  for i in range(0, len(lines), 2):\n",
        "    id = lines[i].strip()\n",
        "    pw = lines[i+1].strip()\n",
        "    admin.append((id, pw))\n",
        "\n",
        "print(\"관리자 정보를 성공적으로 조회했습니다.\")\n",
        "\n",
        "while True:\n",
        "  user_id = input(\"아이디 입력: \")\n",
        "  user_pw = input(\"비밀번호 입력: \")\n",
        "\n",
        "  if(user_id, user_pw) in admin:\n",
        "    print(\"로그인에 성공하였습니다.\")\n",
        "    break\n",
        "  else:\n",
        "    print(\"아이디 또는 비밀번호가 잘못 입력되었습니다.\")"
      ]
    },
    {
      "cell_type": "markdown",
      "source": [
        "1. 파일 오픈\n",
        "2. readlines()로 데이터 읽어오기 -> 리스트\n",
        "3. 각 라인을 2개의 변수에 담고 strip()\n",
        "4. 집합 a에 문장을 단어 단위로 쪼개서 추가 split()\n",
        "5. 집합 b도 동일하게\n",
        "6. 다른 집합으로 결과를 받기\n",
        "  집합 a와 b의 교집합 연산 &\n",
        "7. 출력"
      ],
      "metadata": {
        "id": "6hGzjKp86hzk"
      }
    },
    {
      "cell_type": "code",
      "source": [
        "# 실습 문제2\n",
        "\n",
        "with open('Goldensaying.txt', 'r', encoding='utf-8') as file:\n",
        "  lines = file.readlines()\n",
        "\n",
        "  fst = lines[0].strip()\n",
        "  snd = lines[1].strip()\n",
        "\n",
        "set1 = set(fst.split())\n",
        "set2 = set(snd.split())\n",
        "\n",
        "cmd_words = set1 & set2 # 교집합\n",
        "difference_words = set1 - set2 # 차집합\n",
        "total_words = set1 | set2 # 합집합\n",
        "\n",
        "print(\"첫번째 명언: \", fst)\n",
        "print(\"두번째 명언: \", snd)\n",
        "\n",
        "print(\"첫번째 명언 집합: {}\".format(set1))\n",
        "print(\"두번째 명언 집합: {}\".format(set2))\n",
        "print(\"공통 단어 집합: {}\".format(cmd_words))\n",
        "print(\"다른 단어 집합: {}\".format(difference_words))\n",
        "print(\"전체 단어 집합: {}\".format(total_words))"
      ],
      "metadata": {
        "colab": {
          "base_uri": "https://localhost:8080/"
        },
        "id": "Oip_i5P01Tj5",
        "outputId": "3fdf9ba7-6e8f-4a47-8a2c-32dcf55e1244"
      },
      "execution_count": null,
      "outputs": [
        {
          "output_type": "stream",
          "name": "stdout",
          "text": [
            "첫번째 명언:  If one advances confidently in the direction of his dreams, and  endeavours to live the life which he has imagined, he will meet with success  unexpected in common hours.\n",
            "두번째 명언:  Sometimes the measure of friendship isn't your ability to not harm but  your capacity to forgive the things done to you and ask forgiveness for your own  mistakes.\n",
            "첫번째 명언 집합: {'confidently', 'hours.', 'to', 'will', 'If', 'one', 'which', 'dreams,', 'success', 'meet', 'he', 'direction', 'unexpected', 'advances', 'with', 'his', 'life', 'has', 'in', 'of', 'live', 'endeavours', 'common', 'imagined,', 'the', 'and'}\n",
            "두번째 명언 집합: {'capacity', 'harm', 'done', 'friendship', 'but', 'things', 'to', 'ability', 'Sometimes', 'you', 'forgive', 'for', 'not', 'your', 'own', 'forgiveness', \"isn't\", 'mistakes.', 'of', 'measure', 'ask', 'the', 'and'}\n",
            "공통 단어 집합: {'and', 'to', 'the', 'of'}\n",
            "다른 단어 집합: {'confidently', 'hours.', 'will', 'If', 'one', 'which', 'dreams,', 'success', 'meet', 'he', 'direction', 'unexpected', 'advances', 'with', 'his', 'life', 'has', 'in', 'live', 'endeavours', 'common', 'imagined,'}\n",
            "전체 단어 집합: {'capacity', 'harm', 'confidently', 'done', 'friendship', 'hours.', 'but', 'things', 'to', 'will', 'If', 'one', 'ability', 'Sometimes', 'you', 'forgive', 'which', 'dreams,', 'success', 'for', 'meet', 'not', 'your', 'he', 'own', 'direction', 'unexpected', 'advances', 'with', 'his', 'forgiveness', 'life', 'has', 'in', \"isn't\", 'mistakes.', 'of', 'live', 'measure', 'endeavours', 'common', 'imagined,', 'ask', 'the', 'and'}\n"
          ]
        }
      ]
    },
    {
      "cell_type": "markdown",
      "source": [],
      "metadata": {
        "id": "EDnyh_ar8kzc"
      }
    },
    {
      "cell_type": "code",
      "source": [
        "# 실습 문제 3 + 4\n",
        "\n",
        "# with open('sample1.txt', 'r', encoding='utf-8') as file1:\n",
        "#   fst = file1.readlines()\n",
        "# with open('sample2.txt', 'r', encoding='utf-8') as file2:\n",
        "#   snd = file2.readlines()\n",
        "def analyze_file(file_path):\n",
        "  with open(file_path, 'r', encoding=\"utf-8\") as files:\n",
        "    content = files.read().strip()\n",
        "\n",
        "    # 총 문장의 수\n",
        "    sentences = content.split('.')\n",
        "    total_sentences = len(sentences)\n",
        "\n",
        "    # 총 단어의 수\n",
        "    words = content.split()\n",
        "    total_words = len(words)\n",
        "    words_list = set(words)\n",
        "\n",
        "    return total_sentences, total_words, words_list\n",
        "\n",
        "sentence1, word1, word1_set = analyze_file('sample1.txt')\n",
        "sentence2, word2, word2_set = analyze_file('sample2.txt')\n",
        "\n",
        "common_words = word1_set & word2_set\n",
        "\n",
        "print(\"1번 파일 총 문장의 수: {}\".format(sentence1))\n",
        "print(\"1번 파일 총 단어의 수: {}\".format(word1))\n",
        "print(\"중복 단어 비율: {:.2f}\".format((len(common_words) / word1) * 100))\n",
        "\n",
        "print(\"2번 파일 총 문장의 수: {}\".format(sentence2))\n",
        "print(\"2번 파일 총 단어의 수: {}\".format(word2))\n",
        "print(\"중복 단어 비율: {:.2f}\".format((len(common_words) / word2) * 100))\n",
        "\n",
        "print(\"공통 단어의 수: {}\".format(len(common_words)))\n",
        "print(\"공통 단어 목록: {}\".format(common_words))"
      ],
      "metadata": {
        "colab": {
          "base_uri": "https://localhost:8080/"
        },
        "id": "xd-hryG38k8F",
        "outputId": "cb4cf056-9f64-4cd0-c7e0-bcc2c1038743"
      },
      "execution_count": null,
      "outputs": [
        {
          "output_type": "stream",
          "name": "stdout",
          "text": [
            "1번 파일 총 문장의 수: 11\n",
            "1번 파일 총 단어의 수: 110\n",
            "중복 단어 비율: 13.64\n",
            "2번 파일 총 문장의 수: 13\n",
            "2번 파일 총 단어의 수: 128\n",
            "중복 단어 비율: 11.72\n",
            "공통 단어의 수: 15\n",
            "공통 단어 목록: {'있으며,', '이는', '우리는', '정확한', '항상', '더욱', '있다.', '한다.', '것은', '때문에,', '가지', '현실을', '수', '통해', '이러한'}\n"
          ]
        }
      ]
    }
  ]
}