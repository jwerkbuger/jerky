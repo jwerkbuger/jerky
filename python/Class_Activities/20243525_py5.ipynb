{
  "nbformat": 4,
  "nbformat_minor": 0,
  "metadata": {
    "colab": {
      "provenance": []
    },
    "kernelspec": {
      "name": "python3",
      "display_name": "Python 3"
    },
    "language_info": {
      "name": "python"
    }
  },
  "cells": [
    {
      "cell_type": "code",
      "execution_count": 5,
      "metadata": {
        "colab": {
          "base_uri": "https://localhost:8080/"
        },
        "id": "lrBpIE3vVE8p",
        "outputId": "4ccbce34-f249-4d00-9433-087fae8c44d4"
      },
      "outputs": [
        {
          "output_type": "stream",
          "name": "stdout",
          "text": [
            "성별이 무엇인가요?(m/w) w\n",
            "키는 얼마인가요?(cm) 130\n",
            "여자 평균키 미만\n"
          ]
        }
      ],
      "source": [
        "#실습 문제1\n",
        "\n",
        "gender = input(\"성별이 무엇인가요?(m/w) \")\n",
        "height = float(input(\"키는 얼마인가요?(cm) \"))\n",
        "\n",
        "m_average = 173.5\n",
        "w_average = 163.2\n",
        "\n",
        "#if gender == 'M' or gender == 'm' :\n",
        "#if gender.upper() == 'M' :\n",
        "if gender.lower() == 'm' :\n",
        "  if height >= m_average :\n",
        "    print(\"남자 평균키 이상\")\n",
        "  else :\n",
        "    print(\"남자 평균키 미만\")\n",
        "elif gender.lower() == 'w' :\n",
        "  if height >= w_average :\n",
        "    print(\"여자 평균키 이상\")\n",
        "  else :\n",
        "    print(\"여자 평균키 미만\")\n",
        "else :\n",
        "  print(\"?????\")"
      ]
    },
    {
      "cell_type": "code",
      "source": [
        "gender = input(\"성별은 무엇인가요?(w/m) \")\n",
        "height = float(input(\"키는 얼마인가요?(cm) \"))\n",
        "\n",
        "m_average = 173.5\n",
        "w_average = 163.2\n",
        "\n",
        "if gender.upper() == 'm' and height >= m_average :\n",
        "  print(\"남자 평균키 이상\")\n",
        "elif gender.upper() == 'm' and height < m_average :\n",
        "  print(\"남자 평균키 미만\")\n",
        "elif gender.upper() == 'w' and height >= w_average :\n",
        "  print(\"여자 평균키 이상\")\n",
        "elif gender.upper() == 'w' and height < m_average :\n",
        "  print(\"여자 평균키 이상\")\n",
        "else :\n",
        "  print(\"?????\")"
      ],
      "metadata": {
        "id": "pgyZDU3Bcu0i"
      },
      "execution_count": null,
      "outputs": []
    },
    {
      "cell_type": "code",
      "source": [
        "n = int(input(\"정수값을 입력하세요: \"))\n",
        "\n",
        "#a / b\n",
        "#a // b\n",
        "#a % b\n",
        "\n",
        "if n % 4 == 0 and n % 5 == 0 :\n",
        "  print(\"{}은 4의 배수이면서, 5의 배수입니다.\".format(n))\n",
        "#else :\n",
        "#  print(\"{}은 4의 배수나, 5의 배수가 아닙니다.\".format(n))\n",
        "elif n % 5 == 0 and n % 5 != 0 :\n",
        "  print(\"{}은 4의 배수이지만, 5의 배수가 아닙니다.\".format(n))\n",
        "elif n % 4 != 0 and n % 5 == 0 :\n",
        "  print(\"{}은 4의 배수는 아니지만, 5의 배수입니다.\".format(n))\n",
        "else :\n",
        "  print(\"{}은 4의 배수도 아니고, 5의 배수도 아닙니다.\".format(n))"
      ],
      "metadata": {
        "id": "WcfTAq91eaj2"
      },
      "execution_count": null,
      "outputs": []
    },
    {
      "cell_type": "code",
      "source": [
        "age = int(input(\"나이를 입력하세요: \"))\n",
        "height = float(input(\"키를 입력하세요: \"))\n",
        "\n",
        "#1\n",
        "#if age >= 10 :\n",
        "#  if height >= 165 and height <185 :\n",
        "#    print(\"놀이기구 입장하실게요.\")\n",
        "#  elif height < 165 :\n",
        "#    print(\"키가 부족하셔서 이용하실 수 없습니다.\")\n",
        "#  elif height > 185 :\n",
        "#    print(\"키가 너무 크셔서 이용하실 수 없습니다.\")\n",
        "#elif age <= 10 :\n",
        "#  if height >= 165 and height <185 :\n",
        "#    print(\"키는 되시지만 나이가 부족하셔서 놀이기구를 이용하실 수 없습니다.\")\n",
        "#  elif height < 165 :\n",
        "#    print(\"나이와 키가 모두 부족하셔서 이용하실 수 없습니다.\")\n",
        "#  elif height > 185 :\n",
        "#    print(\"나이는 적으시고 키는 너무 크셔서 이용하실 수 없습니다.\")\n",
        "#else :\n",
        "#  print(\"혹시 손님 외계인이실까요?\")\n",
        "\n",
        "#2\n",
        "if age >= 10 :\n",
        "  if height >= 165 and height <185 :\n",
        "    print(\"나이는 {}살이고 키가 {:.2f}cm셔서 놀이기구 입장하실게요.\".format(age, height))\n",
        "  elif height < 165 :\n",
        "    height_diff = 165.0 - height\n",
        "    print(\"나이는 되시지만 {:.2f}cm로 {:.2f}cm가 부족하셔서 이용하실 수 없습니다.\".format(height, height_diff))\n",
        "  elif height > 185 :\n",
        "    height_diff = height - 165.0\n",
        "    print(\"나이는 되시지만 키가 {:.2f}cm로 {:.2f}cm가 크셔서 이용하실 수 없습니다.\".format(height, height_diff))\n",
        "elif age <= 10 :\n",
        "  age_diff = 10 - age\n",
        "  if height >= 165 and height <185 :\n",
        "    print(\"키가 {:.2f}cm로 키는 되시지만 {}로 {}살이 부족해 놀이기구를 이용하실 수 없습니다.\".format(height, age, age_diff))\n",
        "  elif height < 165 :\n",
        "    height_diff = 165.0 - height\n",
        "    print(\"나이는 {}으로 {}살이 부족하시고 {:.2f}cm로 {:.2f}cm가 부족하셔서 이용하실 수 없습니다.\".format(age, age_diff, height, height_diff))\n",
        "  elif height > 185 :\n",
        "    height_diff = height - 165.0\n",
        "    print(\"나이는 {}으로 {}살이 부족하시고 키는 {:.2f}cm로 {:.2f}cm 크셔서 이용하실 수 없습니다.\".format(age, age_diff, height, height_diff))\n",
        "else :\n",
        "  print(\"혹시 손님 외계인이실까요?\")\n",
        "\n",
        "#if age >= 10 and height >= 165 : 도 가능!"
      ],
      "metadata": {
        "colab": {
          "base_uri": "https://localhost:8080/"
        },
        "id": "9wGNOoAdf7Ok",
        "outputId": "6e29aba6-921f-4f5a-b363-d7d95e705ed9"
      },
      "execution_count": 12,
      "outputs": [
        {
          "output_type": "stream",
          "name": "stdout",
          "text": [
            "나이를 입력하세요: 33\n",
            "키를 입력하세요: 187.6\n",
            "나이는 되시지만 키가 187.60cm로 22.60cm가 크셔서 이용하실 수 없습니다.\n"
          ]
        }
      ]
    },
    {
      "cell_type": "code",
      "source": [
        "import datetime\n",
        "datetime.datetime.today().weekday()"
      ],
      "metadata": {
        "id": "Iall5iNTnCMy"
      },
      "execution_count": null,
      "outputs": []
    },
    {
      "cell_type": "code",
      "source": [
        "import datetime\n",
        "\n",
        "now = datetime.datetime.now()\n",
        "weekday = now.weekday()\n",
        "\n",
        "if weekday == 0 :\n",
        "  weekday_str = \"월요일\"\n",
        "if weekday == 1 :\n",
        "  weekday_str = \"화요일\"\n",
        "if weekday == 2 :\n",
        "  weekday_str = \"수요일\"\n",
        "if weekday == 3 :\n",
        "  weekday_str = \"목요일\"\n",
        "if weekday == 4 :\n",
        "  weekday_str = \"금요일\"\n",
        "if weekday == 5 :\n",
        "  weekday_str = \"토요일\"\n",
        "if weekday == 6 :\n",
        "  weekday_str = \"일요일\"\n",
        "\n",
        "  #오전/오후 구분\n",
        "if now.hour >= 12 :\n",
        "  hour_str = \"오후\"\n",
        "else :\n",
        "  hour_str = \"오전\"\n",
        "\n",
        "#시간을 12 규격으로 변환\n",
        "hour = now.hour % 12\n",
        "\n",
        "if hour == 0 :\n",
        "  hour = 12\n",
        "\n",
        "print(\"지금은 {}년 {}월 {}일 {} {} {}시 {}분 입니다.\".format(now.year, now.month, now.day, weekday_str, hour_str, hour, now.minute))"
      ],
      "metadata": {
        "colab": {
          "base_uri": "https://localhost:8080/"
        },
        "id": "jkkgswB1nN8u",
        "outputId": "6b044d2d-b82a-43d1-885a-b514581b3b53"
      },
      "execution_count": 15,
      "outputs": [
        {
          "output_type": "stream",
          "name": "stdout",
          "text": [
            "지금은 2024년 4월 3일 수요일 오전 6시 30분 입니다.\n"
          ]
        }
      ]
    },
    {
      "cell_type": "code",
      "source": [
        "p_score = int(input(\"파이썬 점수를 입력하세요: \"))\n",
        "c_score = int(input(\"c언어 점수를 입력하세요: \"))\n",
        "com_score = int(input(\"컴퓨터 아키텍쳐 점수를 입력하세요: \"))\n",
        "\n",
        "sum = p_score + c_score + com_score\n",
        "average = sum / 3\n",
        "\n",
        "if average >= 90 :\n",
        "  grade = 'A'\n",
        "  message = '성적 우수 장학생입니다.'\n",
        "elif average >= 80 :\n",
        "  grade = 'B'\n",
        "  message = '우수합니다.'\n",
        "elif average >= 70 :\n",
        "  grade = 'C'\n",
        "  message = '조금 더 노력해야 합니다.'\n",
        "elif average >= 60 :\n",
        "  grade = 'D'\n",
        "  message = '열심히 노력해야 합니다.'\n",
        "else :\n",
        "  grade = 'F'\n",
        "  message = '재수강하세요.'\n",
        "\n",
        "print(\"총점 : \"+ str(sum))\n",
        "print(\"평균 : {:.2f}\".format(average))\n",
        "print(grade + \"학점입니다.\")\n",
        "print(message)"
      ],
      "metadata": {
        "colab": {
          "base_uri": "https://localhost:8080/"
        },
        "id": "H98vMLsQpk2u",
        "outputId": "cb3f8351-38b5-4805-afd9-1006b14d336e"
      },
      "execution_count": 16,
      "outputs": [
        {
          "output_type": "stream",
          "name": "stdout",
          "text": [
            "파이썬 점수를 입력하세요: 45\n",
            "c언어 점수를 입력하세요: 21\n",
            "컴퓨터 아키텍쳐 점수를 입력하세요: 35\n",
            "총점 : 101\n",
            "펴윤 : 33.67\n",
            "F학점입니다.\n",
            "재수강하세요.\n"
          ]
        }
      ]
    }
  ]
}