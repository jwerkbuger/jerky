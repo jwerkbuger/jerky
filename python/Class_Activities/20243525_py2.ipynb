{
  "cells": [
    {
      "cell_type": "markdown",
      "metadata": {
        "id": "AZWxjDGIOO7f"
      },
      "source": [
        "실습 문제1) 원의 둘레와 넓이 구하기"
      ]
    },
    {
      "cell_type": "code",
      "execution_count": null,
      "metadata": {
        "id": "pvcabJKCP7We"
      },
      "outputs": [],
      "source": [
        "radius = int(input(\"원의 반지름을 입력하세요: \"))\n",
        "\n",
        "#파이 상수값 정의\n",
        "pi = 3.14\n",
        "\n",
        "#원의 둘레 계산 3.14*r*2\n",
        "circumference = pi * 2 * radius\n",
        "#원의 넓이 계산 3.14*r*r\n",
        "area = pi * radius * radius\n",
        "\n",
        "#결과 출력\n",
        "print(\"원의 둘레: \",  circumference, \"\\n원의 넓이: \",area)"
      ]
    },
    {
      "cell_type": "markdown",
      "metadata": {
        "id": "11zxF5QdTcyn"
      },
      "source": [
        "실습 문제2) 연산하기"
      ]
    },
    {
      "cell_type": "code",
      "execution_count": null,
      "metadata": {
        "colab": {
          "base_uri": "https://localhost:8080/"
        },
        "id": "ldP_lRs8UUAc",
        "outputId": "67db9173-c699-4e69-8e6f-71d02f09746f"
      },
      "outputs": [
        {
          "name": "stdout",
          "output_type": "stream",
          "text": [
            "첫번째 숫자를 입력하세요: 15\n",
            "두번째 숫자를 입력하세요: 7\n",
            "15 + 7 = 22\n",
            "15 - 7 = 8\n",
            "15 * 7 = 105\n",
            "15 / 7 = 2.142857142857143\n"
          ]
        }
      ],
      "source": [
        "a = int(input(\"첫번째 숫자를 입력하세요: \"))\n",
        "b = int(input(\"두번째 숫자를 입력하세요: \"))\n",
        "\n",
        "plus = a+b\n",
        "minus = a-b\n",
        "multiply = a*b\n",
        "divide = a/b\n",
        "\n",
        "print(a, \"+\", b, '=', plus)\n",
        "print(a, \"-\", b, '=', minus)\n",
        "print(a, \"*\", b, '=', multiply)\n",
        "print(a, \"/\", b, '=', divide)"
      ]
    },
    {
      "cell_type": "markdown",
      "metadata": {
        "id": "tCpvWkarVyAl"
      },
      "source": [
        "실습 문제3) 나이 구하기"
      ]
    },
    {
      "cell_type": "code",
      "execution_count": null,
      "metadata": {
        "id": "WWHbjz2qWRcP"
      },
      "outputs": [],
      "source": [
        "name = input(\"이름을 입력하세요: \")\n",
        "print(name, \"님 파이썬 수업 수강을 환영합니다.\")\n",
        "\n",
        "current_year = int(input(\"올해의 년도를 입력하세요: \"))\n",
        "birth_year = int(input(\"태어나신 년도를 입력하세요: \"))\n",
        "\n",
        "age = current_year - birth_year\n",
        "\n",
        "print(name, \"님은 한국 나이로\", age, \"살 이시군요.\")\n"
      ]
    },
    {
      "cell_type": "markdown",
      "metadata": {
        "id": "qm52nHgkYvGd"
      },
      "source": [
        "실습 문제4) 숫자 표현하기"
      ]
    },
    {
      "cell_type": "code",
      "execution_count": 1,
      "metadata": {
        "colab": {
          "base_uri": "https://localhost:8080/"
        },
        "id": "AptFrH7YZtn1",
        "outputId": "bf432a8a-fad8-46e8-aea0-1357930020c5"
      },
      "outputs": [
        {
          "name": "stdout",
          "output_type": "stream",
          "text": [
            "정수:  10\n",
            "실수:  10.0\n",
            "문자열:  10\n",
            "2진수:  0b1010\n",
            "8진수:  0o12\n",
            "16진수:  0xa\n"
          ]
        }
      ],
      "source": [
        "number = int(input(\"정수를 입력하세요: \"))\n",
        "\n",
        "print(\"정수: \", number)\n",
        "print(\"실수: \", float(number))\n",
        "print(\"문자열: \", str(number))\n",
        "print(\"2진수: \", bin(number)) #0b\n",
        "print(\"8진수: \", oct(number)) #0o\n",
        "print(\"16진수: \", hex(number)) #0x"
      ]
    },
    {
      "cell_type": "code",
      "execution_count": 4,
      "metadata": {
        "id": "Sb4YHSgebRng"
      },
      "outputs": [
        {
          "name": "stdout",
          "output_type": "stream",
          "text": [
            "정수 : 10\n",
            "정수 : 10\n",
            "정수 : 10\n",
            "정수 : 10\n"
          ]
        }
      ],
      "source": [
        "num = 10\n",
        "\n",
        "#다양한 format 형태\n",
        "print(\"정수 : %d\" % (num))\n",
        "print(\"정수 :\", num) #띄어쓰기 한칸이 기본인가봐\n",
        "print(\"정수 : {}\".format(num))\n",
        "print(f\"정수 : {num}\") #제일 최근 나온 명령어로 전버전과 호환되지 않을 수 있음"
      ]
    },
    {
      "cell_type": "markdown",
      "metadata": {
        "id": "hgvajyaaa1hU"
      },
      "source": [
        "출력양식 처리 방법 실습"
      ]
    },
    {
      "cell_type": "code",
      "execution_count": 27,
      "metadata": {
        "colab": {
          "base_uri": "https://localhost:8080/"
        },
        "id": "0lDcb4o0c189",
        "outputId": "abc3079c-89b5-4f2e-cdaf-569bcfa15966"
      },
      "outputs": [
        {
          "name": "stdout",
          "output_type": "stream",
          "text": [
            "정수: 10\n",
            "실수: 10.000000\n",
            "문자열: 10\n",
            "2진수: 1010\n",
            "8진수: 12\n",
            "16진수: a\n",
            "16진수: A\n",
            "intiger float string : 10 10.00 10\n",
            "binary octal hexadecimal : 1010 12 a A\n"
          ]
        }
      ],
      "source": [
        "num = int(input(\"정수를 입력하세요: \"))\n",
        "\n",
        "print(\"정수: %d\" % (num))\n",
        "print(\"실수: %2f\" % (num))\n",
        "print(\"문자열: %s\" % (num))\n",
        "print(\"2진수: {0:b}\".format(num)) #format을 쓸 땐 {0:}식으로 표시하기\n",
        "print(\"8진수: {0:o}\".format(num))\n",
        "print(\"16진수: {0:x}\".format(num)) #소문자\n",
        "print(\"16진수: {0:X}\".format(num)) #대문자\n",
        "\n",
        "print(\"intiger float string : %d %.2f %s\" % (num, num, num)) #진법 출력 방법1\n",
        "print(\"binary octal hexadecimal : {0:b} {1:o} {2:x} {3:X}\".format(num, num, num, num)) #진법 출력 방법2"
      ]
    },
    {
      "cell_type": "code",
      "execution_count": 28,
      "metadata": {
        "colab": {
          "base_uri": "https://localhost:8080/"
        },
        "id": "90bg7uHfeBoE",
        "outputId": "b4ef8328-71dc-44f4-e976-437c8c0386ce"
      },
      "outputs": [
        {
          "name": "stdout",
          "output_type": "stream",
          "text": [
            "2024 년 3 월 13 일 수 요일 입니다.\n",
            "2024년 3월 13일은 수요일 입니다.\n",
            "2024년 3월 13일 수요일 입니다.\n",
            "2024년 3월 13일 수요일 입니다.\n",
            "한국식 표현(년/월/일/요일): 2024/3/13/수\n",
            "미국식 표현(요일/월/일/년): 수/3/13/2024\n",
            "영국식 표현(요일/일/월/년): 수/13/3/2024\n"
          ]
        }
      ],
      "source": [
        "year = 2024\n",
        "month = 3\n",
        "day = 13\n",
        "day_week = '수'\n",
        "\n",
        "#format(year, month, day, day_week)\n",
        "#{} 안이 빈칸일 시 순서대로 적용\n",
        "#{0}=year, {1}=month, {2}=day, {3}=day_week\n",
        "\n",
        "#위아래 버전 전환 <중요> 시험출제예상(공식임)  **가독성 차이\n",
        "print(year, \"년\", month, \"월\", day, \"일\", day_week, \"요일 입니다.\")\n",
        "print(\"{}년 {}월 {}일은 {}요일 입니다.\".format(year, month, day, day_week)) #장점: 순서 전환이 쉽다 *밑 참고\n",
        "print(\"{y}년 {m}월 {d}일 {dw}요일 입니다.\".format(y=year, m=month, d=day, dw=day_week))\n",
        "print(f\"{year}년 {month}월 {day}일 {day_week}요일 입니다.\")\n",
        "#연산이 아니라면 문자열을 정수로 전환할 필요X\n",
        "\n",
        "print(\"한국식 표현(년/월/일/요일): {0}/{1}/{2}/{3}\".format(year, month, day, day_week))\n",
        "print(\"미국식 표현(요일/월/일/년): {3}/{1}/{2}/{0}\".format(year, month, day, day_week))\n",
        "print(\"영국식 표현(요일/일/월/년): {3}/{2}/{1}/{0}\".format(year, month, day, day_week))"
      ]
    },
    {
      "cell_type": "code",
      "execution_count": null,
      "metadata": {
        "colab": {
          "base_uri": "https://localhost:8080/"
        },
        "id": "Rn8-Dlsvibmk",
        "outputId": "a8339b91-89b6-4baf-d6a3-7c944d2304f0"
      },
      "outputs": [
        {
          "name": "stdout",
          "output_type": "stream",
          "text": [
            "2024년 3월 13일 수요일 입니다.\n",
            "03월 13일 수요일은 온도가 15.30도 입니다.\n"
          ]
        }
      ],
      "source": [
        "year = 2024\n",
        "month = 3\n",
        "day = 13\n",
        "day_week = '수'\n",
        "temp = 15.3\n",
        "\n",
        "print(\"{y}년 {m}월 {d}일 {dw}요일 입니다.\".format(y=year, m=month, d=day, dw=day_week))\n",
        "print(\"{0:02d}월 {1}일 {2}요일은 온도가 {3:.2f}도 입니다.\".format(month, day,day_week, temp))\n",
        "#{0:02d} 0번째를 두자리로 표현하며 빈칸은 0으로 표현\n",
        "#{3:.2f} 3번째를 실수로 소수점 세번째에서 반올림하여 두자리까지 표현"
      ]
    },
    {
      "cell_type": "code",
      "execution_count": null,
      "metadata": {
        "colab": {
          "base_uri": "https://localhost:8080/"
        },
        "id": "xQo2uc1qkRDs",
        "outputId": "ba10795a-d0b6-4162-fd3e-02335db85420"
      },
      "outputs": [
        {
          "name": "stdout",
          "output_type": "stream",
          "text": [
            "출력 연습: 0000000000\n",
            "좌측 정렬: 12345     \n",
            "중앙 정렬:   12345   \n",
            "우측 정렬:      12345\n"
          ]
        }
      ],
      "source": [
        "#화살표를 이용해 정렬\n",
        "num = 12345\n",
        "print(\"출력 연습: 0000000000\")\n",
        "print(\"좌측 정렬: {0:<10}\".format(num)) #화살표 방향대로로 생각하기\n",
        "print(\"중앙 정렬: {0:^10}\".format(num))\n",
        "print(\"우측 정렬: {0:>10}\".format(num))"
      ]
    }
  ],
  "metadata": {
    "colab": {
      "provenance": []
    },
    "kernelspec": {
      "display_name": "Python 3",
      "name": "python3"
    },
    "language_info": {
      "codemirror_mode": {
        "name": "ipython",
        "version": 3
      },
      "file_extension": ".py",
      "mimetype": "text/x-python",
      "name": "python",
      "nbconvert_exporter": "python",
      "pygments_lexer": "ipython3",
      "version": "3.11.9"
    }
  },
  "nbformat": 4,
  "nbformat_minor": 0
}
