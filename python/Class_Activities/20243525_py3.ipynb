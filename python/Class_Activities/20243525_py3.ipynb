{
  "cells": [
    {
      "cell_type": "markdown",
      "metadata": {
        "id": "7jcCLILzR2nn"
      },
      "source": [
        "실습 문제 1\n",
        "\n",
        "1. 사용자에게서 반지름을 실수로 받는다. -> input(), float()\n",
        "2. 구의 부피 = 4/3 * PI * 반지름^3 #제곱은 **으로 표현\n",
        "3. 구의 부피를 결과로 출력한다."
      ]
    },
    {
      "cell_type": "code",
      "execution_count": 2,
      "metadata": {
        "colab": {
          "base_uri": "https://localhost:8080/"
        },
        "id": "tMzGqBx8P6LT",
        "outputId": "7f8d1771-208c-444b-f690-710b6552d728"
      },
      "outputs": [
        {
          "name": "stdout",
          "output_type": "stream",
          "text": [
            "구의 부피= 523.599\n",
            "구의 부피= 523.599\n"
          ]
        }
      ],
      "source": [
        "#radius = r\n",
        "#volumn = v\n",
        "\n",
        "r = float(input(\"반지름을 입력하세요: \"))\n",
        "#r = int(input(\"반지름을 입력하세요: \")) 반지름이 소수가 아니라면 int로 작성해도 무관함\n",
        "\n",
        "v = 4/3 * 3.141592 * r**3\n",
        "#print(\"구의 부피= \", v)\n",
        "print(\"구의 부피= %.3f\" % (v))  #내가 작성한 식\n",
        "print(\"구의 부피= {:.3f}\" .format(v))  #교수님 식"
      ]
    },
    {
      "cell_type": "markdown",
      "metadata": {
        "id": "hjdI02REUoZm"
      },
      "source": [
        "실습 문제 2\n",
        "\n",
        "1. 사용자에게 x 값을 정수로 받는다. -> int(), input()\n",
        "2. f(x)를 계산한다. 2*x^3 +3*x^2 +7*x +10\n",
        "3. 3차함수의 값을 결과로 출력한다."
      ]
    },
    {
      "cell_type": "code",
      "execution_count": null,
      "metadata": {
        "colab": {
          "base_uri": "https://localhost:8080/"
        },
        "id": "ftpfwOboTd63",
        "outputId": "a161bac3-abde-49fa-ceb5-87899c799a0f"
      },
      "outputs": [
        {
          "name": "stdout",
          "output_type": "stream",
          "text": [
            "x의 값을 입력하세요: 5\n",
            "2*5^3 + 3*5^2 + 7*5 +10 = 370\n"
          ]
        }
      ],
      "source": [
        "x = int(input(\"x의 값을 입력하세요: \"))\n",
        "\n",
        "#f(x) = 2*x^3 +3*x^2 +7*x +10\n",
        "fx = 2*x**3 + 3*x**2 + 7*x +10\n",
        "\n",
        "print(\"2*{0}^3 + 3*{0}^2 + 7*{0} +10 = {1}\" .format(x, fx))"
      ]
    },
    {
      "cell_type": "markdown",
      "metadata": {
        "id": "-EN1UJP7WApu"
      },
      "source": [
        "실습 문제 3번\n",
        "\n",
        "1. 기간을 정수로 받는다.\n",
        "2. 금리를 실수로 받는다.\n",
        "3. 원금을 정수로 받는다.\n",
        "4. 금리 = 원금 * (1+이율)^기간\n",
        "5. 총 받을 금액을 결과로 출력한다."
      ]
    },
    {
      "cell_type": "code",
      "execution_count": null,
      "metadata": {
        "colab": {
          "base_uri": "https://localhost:8080/"
        },
        "id": "A5AL9hAlWYt9",
        "outputId": "8acd8add-8a5b-45df-f1a1-009ea962b317"
      },
      "outputs": [
        {
          "name": "stdout",
          "output_type": "stream",
          "text": [
            "예금 경과 년수를 입력하세요: 2\n",
            "예금 금리(%)를 입력하세요: 1.8\n",
            "예금 원금을 입력하세요: 10000000\n",
            "총 받을 금액: 10363240\n",
            "총 받을 금액: 10363240\n"
          ]
        }
      ],
      "source": [
        "period = int(input(\"예금 경과 년수를 입력하세요: \"))\n",
        "interests = float(input(\"예금 금리(%)를 입력하세요: \"))\n",
        "deposit_amount = int(input(\"예금 원금을 입력하세요: \"))\n",
        "\n",
        "total = deposit_amount * (1+interests / 100)**period   #소수점으로 입력했으므로 바꿔줌 1.8% -> 0.018\n",
        "\n",
        "print(\"총 받을 금액: %d\" % (total))   #개인 식\n",
        "print(\"총 받을 금액: {:.0f}\" .format(total))   #교수님 식"
      ]
    },
    {
      "cell_type": "markdown",
      "metadata": {
        "id": "Ck3SDRr4Y2m9"
      },
      "source": [
        "실습 문제 4번\n",
        "\n",
        "1. 교환할 돈을 입력받는다.\n",
        "2. 5만원/1만원/5천원/1천원 으로 나눠 몫을 구한다. ex) exchange50000 = money // 50000\n",
        "3. 각 단위의 나머지를 구한다. ex) exchange = money % 50000\n",
        "3. 나머지 잔돈을 구한다.\n",
        "4. 전체 결과를 출력한다,"
      ]
    },
    {
      "cell_type": "code",
      "execution_count": 3,
      "metadata": {
        "colab": {
          "base_uri": "https://localhost:8080/"
        },
        "id": "2_KiGPbeZGDM",
        "outputId": "17f5db91-1e58-461e-8f88-4009e16ca3f1"
      },
      "outputs": [
        {
          "name": "stdout",
          "output_type": "stream",
          "text": [
            "5만원 지폐: 1장\n",
            "1만원 지폐: 2장\n",
            "5천원 지폐: 1장\n",
            "1천원 지폐: 2장\n",
            "나머지 잔돈: 500원\n",
            "5만원 지폐:  1 장\n",
            "1만원 지폐:  2 장\n",
            "5천원 지폐:  1 장\n",
            "1천원 지폐:  2 장\n",
            "나머지 잔돈:  500 원\n"
          ]
        }
      ],
      "source": [
        "money = int(input(\"지폐로 교환할 돈을 입력하세요: \"))\n",
        "\n",
        "exchange50000 = money // 50000\n",
        "money %= 50000   #money = money % 50000\n",
        "exchange10000 = money // 10000\n",
        "money %= 10000\n",
        "exchange5000 = money // 5000\n",
        "money %= 5000\n",
        "exchange1000 = money // 1000\n",
        "money %= 1000\n",
        "\n",
        "print(\"5만원 지폐: {0}장\\n1만원 지폐: {1}장\\n5천원 지폐: {2}장\\n1천원 지폐: {3}장\\n나머지 잔돈: {4}원\" .format(exchange50000, exchange10000, exchange5000, exchange1000, money))\n",
        "\n",
        "print(\"5만원 지폐: \", exchange50000, '장')\n",
        "print(\"1만원 지폐: \", exchange10000, '장')\n",
        "print(\"5천원 지폐: \", exchange5000, '장')\n",
        "print(\"1천원 지폐: \", exchange1000, '장')\n",
        "print(\"나머지 잔돈: \", money, '원')"
      ]
    },
    {
      "cell_type": "markdown",
      "metadata": {
        "id": "e4jA41NPd4TL"
      },
      "source": [
        "실습 문제 5번\n",
        "\n",
        "1. 세 실수를 사용자에게서 입력받는다.\n",
        "2. 2x^3 + 3x^2y^2 + 7xz^3 - 5y\n",
        "3. (x + y) / (x * z * 2)\n",
        "4. 소수점 2자리까지의 결과를 출력한다."
      ]
    },
    {
      "cell_type": "code",
      "execution_count": null,
      "metadata": {
        "colab": {
          "base_uri": "https://localhost:8080/"
        },
        "id": "2HNbeGTBez4y",
        "outputId": "11e86ddc-ddaf-4780-fb86-e42cb92efcbb"
      },
      "outputs": [
        {
          "name": "stdout",
          "output_type": "stream",
          "text": [
            "-1.7\n",
            "2.5\n",
            "3.7\n",
            "Result1 : -570.91\n",
            "Result2 : -0.06\n"
          ]
        }
      ],
      "source": [
        "x = float(input(\"x = \"))\n",
        "y = float(input(\"y = \"))\n",
        "z = float(input(\"z = \"))\n",
        "\n",
        "result1 = 2 * x**3 + 3 * x**2 * y**2 + 7 * x * z**3 - 5 * y\n",
        "result2 = (x + y) / (x * z * 2)\n",
        "\n",
        "print(\"Result1 : {0:.2f}\\nResult2 : {1:.2f}\" .format(result1, result2))\n",
        "print(\"Result1 : {:.2f}\", result1)\n",
        "print(\"Result2 : {:.2f}\", result2)"
      ]
    },
    {
      "cell_type": "markdown",
      "metadata": {
        "id": "-OGWxA4egnWK"
      },
      "source": [
        "실습 문제 6번\n",
        "\n",
        "1. (x1, y2) (x2, y2)를 정수로 입력밪는다.\n",
        "2. 두 점 사이의 거리를 계산한다.\n",
        "루트 계산법 ex) 2의 루트 -> 2**(1/2)\n",
        "3. 소수점 두자리까지 결과를 출력한다.\n"
      ]
    },
    {
      "cell_type": "code",
      "execution_count": null,
      "metadata": {
        "colab": {
          "base_uri": "https://localhost:8080/"
        },
        "id": "Ba0f9vZpgnqR",
        "outputId": "2810d3a4-af2d-4dbe-c236-a22659e7050e"
      },
      "outputs": [
        {
          "name": "stdout",
          "output_type": "stream",
          "text": [
            "2\n",
            "5\n",
            "7\n",
            "12\n",
            "두 점 사이의 거리: 8.60\n"
          ]
        }
      ],
      "source": [
        "x1 = int(input(\"x1 = \"))\n",
        "y1 = int(input(\"y1 = \"))\n",
        "x2 = int(input(\"x2 = \"))\n",
        "y2 = int(input(\"y2 = \"))\n",
        "\n",
        "distance = ((x2 - x1)**2 + (y2 - y1)**2)**(1/2) #**(1/2) = 루트 계산법법\n",
        "\n",
        "print(\"두 점 사이의 거리: {:.2f}\" .format(distance))"
      ]
    },
    {
      "cell_type": "code",
      "execution_count": null,
      "metadata": {
        "colab": {
          "base_uri": "https://localhost:8080/"
        },
        "id": "y2jESkA8i7Dx",
        "outputId": "18a2a6f4-d7fb-4fed-a384-e35817ec0206"
      },
      "outputs": [
        {
          "name": "stdout",
          "output_type": "stream",
          "text": [
            "x1 = 2\n",
            "y1 = 5\n",
            "x2 = 7\n",
            "y2 = 12\n",
            "두 점 사이의 거리: 8.60\n"
          ]
        }
      ],
      "source": [
        "#다른 루트 계산법\n",
        "import math\n",
        "\n",
        "x1 = int(input(\"x1 = \"))\n",
        "y1 = int(input(\"y1 = \"))\n",
        "x2 = int(input(\"x2 = \"))\n",
        "y2 = int(input(\"y2 = \"))\n",
        "\n",
        "distance = math.sqrt((x2 - x1)**2 + (y2 - y1)**2) #루트를 math.sqrt로 교체\n",
        "\n",
        "print(\"두 점 사이의 거리: {:.2f}\" .format(distance))"
      ]
    },
    {
      "cell_type": "markdown",
      "metadata": {
        "id": "25OXqQV-j-wP"
      },
      "source": [
        "실습 문제 7번\n",
        "\n",
        "1. 사용자에게서 두 정수를 받는다.\n",
        "2. 정수를 2진수로 변환한다.\n",
        "3. AND(&) OR(|) XOR(^)로 계산한다.\n",
        "4. 비트 단위 연사의 결과를 출력한다."
      ]
    },
    {
      "cell_type": "code",
      "execution_count": 4,
      "metadata": {
        "colab": {
          "base_uri": "https://localhost:8080/"
        },
        "id": "A6EjGlRKlVoI",
        "outputId": "92381c35-372c-40c6-b071-12f5ac868bff"
      },
      "outputs": [
        {
          "name": "stdout",
          "output_type": "stream",
          "text": [
            "x : 0b1001\n",
            "y : 0b1010\n",
            "&:  0b1000 => 8\n",
            "|:  0b1011 => 11\n",
            "^:  0b11 => 3\n"
          ]
        }
      ],
      "source": [
        "x = int(input(\"x = \"))\n",
        "y = int(input(\"y = \"))\n",
        "\n",
        "print(\"x :\", bin(x))\n",
        "print(\"y :\", bin(y))\n",
        "\n",
        "result_and = x & y\n",
        "result_or = x | y\n",
        "result_xor = x ^ y\n",
        "\n",
        "print(\"&: \", bin(result_and), \"=>\", result_and)\n",
        "print(\"|: \", bin(result_or), \"=>\", result_or)\n",
        "print(\"^: \", bin(result_xor), \"=>\", result_xor)\n",
        "#not = ~\n",
        "#shift R/L = >>/<<"
      ]
    }
  ],
  "metadata": {
    "colab": {
      "provenance": []
    },
    "kernelspec": {
      "display_name": "Python 3",
      "name": "python3"
    },
    "language_info": {
      "codemirror_mode": {
        "name": "ipython",
        "version": 3
      },
      "file_extension": ".py",
      "mimetype": "text/x-python",
      "name": "python",
      "nbconvert_exporter": "python",
      "pygments_lexer": "ipython3",
      "version": "3.11.9"
    }
  },
  "nbformat": 4,
  "nbformat_minor": 0
}
