{
  "cells": [
    {
      "cell_type": "code",
      "execution_count": 5,
      "metadata": {
        "colab": {
          "base_uri": "https://localhost:8080/",
          "height": 36
        },
        "id": "YnxdvGs2OG8f",
        "outputId": "3dcda728-0e67-4835-9a12-dc07df18beb1"
      },
      "outputs": [
        {
          "data": {
            "application/vnd.google.colaboratory.intrinsic+json": {
              "type": "string"
            },
            "text/plain": [
              "'011-135'"
            ]
          },
          "execution_count": 5,
          "metadata": {},
          "output_type": "execute_result"
        }
      ],
      "source": [
        "ssn = \"051214-4123456\"\n",
        "ssn[0:6]\n",
        "ssn[:6]  #앞 6자리\n",
        "ssn[7:14]\n",
        "ssn[7:]  #뒤 6자리\n",
        "ssn[:]  #전체 출력\n",
        "ssn[::2]  #2씩 건너 출력"
      ]
    },
    {
      "cell_type": "code",
      "execution_count": null,
      "metadata": {
        "colab": {
          "base_uri": "https://localhost:8080/"
        },
        "id": "lbQJ7M6mVs-K",
        "outputId": "764a394d-f958-4550-9e66-bb3a98adcda9"
      },
      "outputs": [
        {
          "name": "stdout",
          "output_type": "stream",
          "text": [
            "addtion : 7.80+0.60j\n",
            "substration : -2.40+5.80j\n",
            "multiply : 22.09+9.30j\n",
            "2.7 + 3.2j complex number real number : 2.70\n",
            "2.7 + 3.2j complex number imaginary number : 3.20\n",
            "5.1 - 2.6j 켤레복소수 : 5.10+2.60j\n",
            "5.1 - 2.6j 복소수의 크기 : 5.72\n"
          ]
        }
      ],
      "source": [
        "complex_number1 = 2.7 + 3.2j\n",
        "complex_number2 = 5.1 - 2.6j\n",
        "\n",
        "addtion = complex_number1 + complex_number2\n",
        "substration = complex_number1 - complex_number2\n",
        "multiply = complex_number1 * complex_number2\n",
        "\n",
        "print(\"addtion : {:.2f}\".format(addtion))\n",
        "print(\"substration : {:.2f}\".format(substration))\n",
        "print(\"multiply : {:.2f}\".format(multiply))\n",
        "\n",
        "#실수와 허수 분리\n",
        "print(\"2.7 + 3.2j complex number real number : {:.2f}\".format(complex_number1.real))\n",
        "print(\"2.7 + 3.2j complex number imaginary number : {:.2f}\".format(complex_number1.imag))\n",
        "\n",
        "#켤레복소수와 복소수의 크기를 계산\n",
        "print(\"5.1 - 2.6j 켤레복소수 : {:.2f}\".format(complex_number2.conjugate()))\n",
        "print(\"5.1 - 2.6j 복소수의 크기 : {:.2f}\".format(abs(complex_number2)))"
      ]
    },
    {
      "cell_type": "code",
      "execution_count": null,
      "metadata": {
        "colab": {
          "base_uri": "https://localhost:8080/"
        },
        "id": "EHqTGhacZKBa",
        "outputId": "49b315ed-69f1-48f6-da55-16544cb7c129"
      },
      "outputs": [
        {
          "name": "stdout",
          "output_type": "stream",
          "text": [
            "2024-03-27 05:38:39.282188\n",
            "2024-03-27\n",
            "2024\n",
            "3\n",
            "27\n",
            "05:38:39.282188\n",
            "5\n",
            "38\n",
            "39\n"
          ]
        }
      ],
      "source": [
        "import datetime\n",
        "\n",
        "dt_now = datetime.datetime.now()\n",
        "print(dt_now)\n",
        "\n",
        "#날짜만 출력\n",
        "print(dt_now.date())\n",
        "#연도만 출력\n",
        "print(dt_now.year)\n",
        "#월만 출력\n",
        "print(dt_now.month)\n",
        "#일만 출력\n",
        "print(dt_now.day)\n",
        "\n",
        "#시간만 취득\n",
        "print(dt_now.time())\n",
        "#시\n",
        "print(dt_now.hour)\n",
        "#분\n",
        "print(dt_now.minute)\n",
        "#초\n",
        "print(dt_now.second)"
      ]
    },
    {
      "cell_type": "code",
      "execution_count": null,
      "metadata": {
        "colab": {
          "base_uri": "https://localhost:8080/"
        },
        "id": "Xq_ZM9zRbWcK",
        "outputId": "04acbc00-83ae-4867-975a-f832a7085f10"
      },
      "outputs": [
        {
          "name": "stdout",
          "output_type": "stream",
          "text": [
            "출생년도를 입력하세요: 2005\n",
            "출생월을 입력하세요: 12\n",
            "출생일을 입력하세요: 14\n",
            "출생일(2005년 12월 14일)로 부터 6678일 지났습니다.\n"
          ]
        }
      ],
      "source": [
        "import datetime\n",
        "\n",
        "byear = int(input(\"출생년도를 입력하세요: \"))\n",
        "bmonth = int(input(\"출생월을 입력하세요: \"))\n",
        "bday = int(input(\"출생일을 입력하세요: \"))\n",
        "\n",
        "birthdate = datetime.date(byear, bmonth, bday)\n",
        "\n",
        "today = datetime.date.today()\n",
        "\n",
        "days_passed = (today - birthdate).days\n",
        "\n",
        "print(\"출생일({}년 {}월 {}일)로 부터 {}일 지났습니다.\".format(byear, bmonth, bday, days_passed))"
      ]
    },
    {
      "cell_type": "code",
      "execution_count": 3,
      "metadata": {
        "colab": {
          "base_uri": "https://localhost:8080/"
        },
        "id": "adsHZLEzcrJS",
        "outputId": "7ed869fc-9c5c-4478-88d3-51bea0d8736f"
      },
      "outputs": [
        {
          "name": "stdout",
          "output_type": "stream",
          "text": [
            "오늘은 2024년 4월 19일 입니다.\n",
            "오늘은 24년04월19일입니다.\n",
            "5일 후는 2024년 4월 24일 입니다.\n",
            "5일 후는 2024년04월24일입니다.\n"
          ]
        }
      ],
      "source": [
        "import datetime\n",
        "\n",
        "today = datetime.date.today()\n",
        "today_str = today.strftime(\"%y년%m월%d일\")  #datetime str 사용\n",
        "#y로 작성 시 24/Y로 작성 시 2024로 출력\n",
        "\n",
        "day_later = int(input(\"오늘부터 몇일 후를 알고 싶으신가요? \"))\n",
        "\n",
        "d_day = today + datetime.timedelta(days=day_later)\n",
        "dday_str = d_day.strftime(\"%Y년%m월%d일\")\n",
        "\n",
        "print(\"오늘은 {}년 {}월 {}일 입니다.\".format(today.year, today.month, today.day))\n",
        "print(\"오늘은 {}입니다.\".format(today_str))\n",
        "print(\"{}일 후는 {}년 {}월 {}일 입니다.\".format(day_later, d_day.year, d_day.month, d_day.day))\n",
        "print(\"{}일 후는 {}입니다.\".format(day_later, dday_str))\n",
        "\n",
        "#today.strftime(\"%y%m%d\") 24\n",
        "#today.strftime(\"%Y%m%d\") 2024"
      ]
    },
    {
      "cell_type": "code",
      "execution_count": null,
      "metadata": {
        "colab": {
          "base_uri": "https://localhost:8080/"
        },
        "id": "c2QIHx6WhJNy",
        "outputId": "a0cff9ba-ffc5-42be-978d-12f68eb2caed"
      },
      "outputs": [
        {
          "name": "stdout",
          "output_type": "stream",
          "text": [
            "당신의 이름은? qwe\n",
            "당신의 나이는? 1\n",
            "당신의 키는? 150.5\n",
            "['qwe', 1, 150.5]\n",
            "안녕하세요 qwe님.\n",
            "안녕하세요 qwe님.\n",
            "2050년에는 27살이 되시겠네요.\n",
            "2050년에는 27살이 되시겠네요.\n",
            "남자 평균키인 175.5cm에 -25.0cm, 여성 평균키인 163.2cm에 -12.7cm차이가 나네요.\n"
          ]
        }
      ],
      "source": [
        "name = input(\"당신의 이름은? \")\n",
        "age = int(input(\"당신의 나이는? \"))\n",
        "height = float(input(\"당신의 키는? \"))\n",
        "\n",
        "list = [name, age, height]\n",
        "#list = []\n",
        "#list.append(name)\n",
        "#list.append(age)\n",
        "#list.append(height)\n",
        "\n",
        "print(list)\n",
        "print(\"안녕하세요 {}님.\".format(list[0]))\n",
        "#print(\"안녕하세요 {}님.\".format(name))\n",
        "\n",
        "print(\"2050년에는 {}살이 되시겠네요.\".format(age+26))\n",
        "#print(\"2050년에는 {}살이 되시겠네요.\".format(list[1]+26))\n",
        "\n",
        "male_aheight = 175.5\n",
        "female_aheight = 163.2\n",
        "hdifference_male = height - male_aheight\n",
        "hdifference_female = height - female_aheight\n",
        "print(\"남자 평균키인 {}cm에 {:.1f}cm, 여성 평균키인 {}cm에 {:.1f}cm차이가 나네요.\".format(male_aheight, hdifference_male, female_aheight, hdifference_female))"
      ]
    },
    {
      "cell_type": "code",
      "execution_count": 4,
      "metadata": {
        "colab": {
          "base_uri": "https://localhost:8080/"
        },
        "id": "We2iwmCum79F",
        "outputId": "85260a17-6dac-4038-d2f5-32cfe58c258c"
      },
      "outputs": [
        {
          "name": "stdout",
          "output_type": "stream",
          "text": [
            "첫번째 정수를 입력하시오: 11\n",
            "두번째 정수를 입력하시오: 22\n",
            "세번째 정수를 입력하시오: 33\n",
            "네번째 정수를 입력하시오: 44\n",
            "다섯번째 정수를 입력하시오: 55\n",
            "[11, 22, 33, 44, 55]\n",
            "총 합계: 165\n",
            "평균: 33.00\n"
          ]
        }
      ],
      "source": [
        "num1 = int(input(\"첫번째 정수를 입력하시오: \"))\n",
        "num2 = int(input(\"두번째 정수를 입력하시오: \"))\n",
        "num3 = int(input(\"세번째 정수를 입력하시오: \"))\n",
        "num4 = int(input(\"네번째 정수를 입력하시오: \"))\n",
        "num5 = int(input(\"다섯번째 정수를 입력하시오: \"))\n",
        "\n",
        "numbers = [num1, num2, num3, num4, num5]\n",
        "print(numbers)\n",
        "\n",
        "#total = num1 + num2 + num3 + num4 + num5\n",
        "total = numbers[0] + numbers[1] + numbers[2] + numbers[3] + numbers[4]\n",
        "print(\"총 합계: {}\".format(total))\n",
        "average = total / len(numbers)\n",
        "print(\"평균: {:.2f}\".format(average))"
      ]
    }
  ],
  "metadata": {
    "colab": {
      "provenance": []
    },
    "kernelspec": {
      "display_name": "Python 3",
      "name": "python3"
    },
    "language_info": {
      "codemirror_mode": {
        "name": "ipython",
        "version": 3
      },
      "file_extension": ".py",
      "mimetype": "text/x-python",
      "name": "python",
      "nbconvert_exporter": "python",
      "pygments_lexer": "ipython3",
      "version": "3.11.9"
    }
  },
  "nbformat": 4,
  "nbformat_minor": 0
}
