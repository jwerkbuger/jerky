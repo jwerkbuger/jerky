{
  "nbformat": 4,
  "nbformat_minor": 0,
  "metadata": {
    "colab": {
      "provenance": []
    },
    "kernelspec": {
      "name": "python3",
      "display_name": "Python 3"
    },
    "language_info": {
      "name": "python"
    }
  },
  "cells": [
    {
      "cell_type": "code",
      "execution_count": null,
      "metadata": {
        "id": "xNSb9CNbiks8"
      },
      "outputs": [],
      "source": [
        "# 실습1\n",
        "\n",
        "def inches_to_cm(inches): #인치를 센티미터로 변환\n",
        "  return inches * 2.54\n",
        "\n",
        "def miles_to_km(miles): #마일을 키로미터로 변환\n",
        "  return miles * 1.60934 #원래 1.6정도까지만 작성\n",
        "\n",
        "inches = float(input(\"인치를 입력하세요: \"))\n",
        "miles = float(input(\"마일을 입력하세요: \"))\n",
        "\n",
        "# function call inches_to_cm()\n",
        "centimeter = inches_to_cm(inches)\n",
        "\n",
        "# function call miles_to_km()\n",
        "kilometer = miles_to_km(miles)\n",
        "\n",
        "print(\"{:.3f} 인치 = {:.3f} 센티미터\".format(inches, centimeter))\n",
        "print(\"{:.3f} 마일 = {:.3f} 키로미터\".format(miles, kilometer))"
      ]
    },
    {
      "cell_type": "code",
      "source": [
        "# 실습2\n",
        "\n",
        "import math\n",
        "\n",
        "def distance(fst_xcenter, fst_ycenter, snd_xcenter, snd_ycenter):\n",
        "  return math.sqrt((snd_xcenter - fst_xcenter)**2 + (snd_ycenter - fst_ycenter)**2)\n",
        "def check_collision(fst_xcenter, fst_ycenter, fst_radius, snd_xcenter, snd_ycenter, snd_radius):\n",
        "  dis = distance(fst_xcenter, fst_ycenter, snd_xcenter, snd_ycenter)\n",
        "  print(\"점({}, {})와 점({}, {})의 거리 : {:.3f}\".format(fst_xcenter, fst_ycenter, snd_xcenter, snd_ycenter, dis))\n",
        "\n",
        "  if dis <= fst_radius + snd_radius :\n",
        "    return True\n",
        "  else :\n",
        "    return False\n",
        "\n",
        "fst_xcenter = float(input(\"첫 번째 원 중점의 x좌표: \"))\n",
        "fst_ycenter = float(input(\"첫 번째 원 중점의 y좌표: \"))\n",
        "fst_radius = float(input(\"첫 번째 원의 반지름: \"))\n",
        "\n",
        "snd_xcenter = float(input(\"두 번째 원 중점의 x좌표: \"))\n",
        "snd_ycenter = float(input(\"두 번째 원 중점의 y좌표: \"))\n",
        "snd_radius = float(input(\"두 번째 원의 반지름: \"))\n",
        "\n",
        "result = check_collision(fst_xcenter, fst_ycenter, fst_radius, snd_xcenter, snd_ycenter, snd_radius)\n",
        "print(result)"
      ],
      "metadata": {
        "colab": {
          "base_uri": "https://localhost:8080/"
        },
        "id": "290n1B7jmHDv",
        "outputId": "704e831a-b379-4000-8f13-35112a124725"
      },
      "execution_count": 6,
      "outputs": [
        {
          "output_type": "stream",
          "name": "stdout",
          "text": [
            "첫 번째 원 중점의 x좌표: 0\n",
            "첫 번째 원 중점의 y좌표: 0\n",
            "첫 번째 원의 반지름: 1\n",
            "두 번째 원 중점의 x좌표: 5\n",
            "두 번째 원 중점의 y좌표: 5\n",
            "두 번째 원의 반지름: 2\n",
            "점(0.0, 0.0)와 점(5.0, 5.0)의 거리 : 7.071\n",
            "False\n"
          ]
        }
      ]
    },
    {
      "cell_type": "code",
      "source": [
        "# 실습 3\n",
        "\n",
        "def number_to(number):\n",
        "  num_map = {0:'영', 1:'일', 2:'이', 3:'삼', 4:'사', 5:'오', 6:'육',7:'칠', 8:'팔', 9:'구'}\n",
        "  units = ['', '십', '백', '천', '만', '십', '백', '천', '억']\n",
        "\n",
        "  num_str = str(number)[::-1]\n",
        "  #아래의 코드를 한줄에 적은 것임\n",
        "  # num_str = str(number)\n",
        "  #num_str = num_str[::-1]\n",
        "\n",
        "  result = [] # 한글 저장 리스트\n",
        "\n",
        "  # 1234 -> \"5678\"\n",
        "  # (0, \"5\")\n",
        "  # (1, \"6\")\n",
        "  # (2, \"7\")\n",
        "  # (3, \"8\")\n",
        "  for i, digit in enumerate(num_str):\n",
        "    if i > len(units):\n",
        "      break\n",
        "    unit = units[i]\n",
        "    num = num_map[int(digit)]\n",
        "\n",
        "    result.append(\"{}:{}{}\".format(digit, num, unit))\n",
        "  return result[::-1]\n",
        "\n",
        "number = int(input(\"숫자로 입력: \"))\n",
        "converted = number_to(number)\n",
        "\n",
        "for num in converted:\n",
        "  print(num)"
      ],
      "metadata": {
        "colab": {
          "base_uri": "https://localhost:8080/"
        },
        "id": "6zKEOdK11Kho",
        "outputId": "dbf9a648-dc81-4316-c85d-68fcc008e404"
      },
      "execution_count": 10,
      "outputs": [
        {
          "output_type": "stream",
          "name": "stdout",
          "text": [
            "숫자로 입력: 54321\n",
            "5:오만\n",
            "4:사천\n",
            "3:삼백\n",
            "2:이십\n",
            "1:일\n"
          ]
        }
      ]
    },
    {
      "cell_type": "code",
      "source": [
        "# 실습4\n",
        "\n",
        "#def is_prime(n): # 교재 코드\n",
        "#  if n <= 1:\n",
        "#    return False\n",
        "#  if n <= 3:\n",
        "#    return True\n",
        "#\n",
        "#  if n % 2 == 0 or n % 3 == 0:\n",
        "#    return False\n",
        "#  i = 5\n",
        "#  while i * i<= n:\n",
        "#    if n % i == 0 or n % (i+2) == 0:\n",
        "#      return False\n",
        "#      i += 6\n",
        "#\n",
        "#    return True\n",
        "\n",
        "def is_prime2(n): # 보다 간편 코드\n",
        "  for i in range(2, n):\n",
        "    if n % i == 0:\n",
        "      return False\n",
        "  return True\n",
        "\n",
        "def find_prime(number):\n",
        "  primes = []\n",
        "  for n in range(2, number+1):\n",
        "    if is_prime2(n):\n",
        "      primes.append(n)\n",
        "  return primes\n",
        "\n",
        "number= int(input(\"1부터 어느 범위까지의 소수를 찾고 싶은가요? \"))\n",
        "\n",
        "print(find_prime(number))"
      ],
      "metadata": {
        "colab": {
          "base_uri": "https://localhost:8080/"
        },
        "id": "WleZcZUo1WUe",
        "outputId": "488803a4-8687-47db-842a-5dd70543031f"
      },
      "execution_count": 16,
      "outputs": [
        {
          "output_type": "stream",
          "name": "stdout",
          "text": [
            "1부터 어느 범위까지의 소수를 찾고 싶은가요? 100\n",
            "[2, 3, 5, 7, 11, 13, 17, 19, 23, 29, 31, 37, 41, 43, 47, 53, 59, 61, 67, 71, 73, 79, 83, 89, 97]\n"
          ]
        }
      ]
    },
    {
      "cell_type": "code",
      "source": [
        "# 실습5\n",
        "\n",
        "#평균 구하는 함수\n",
        "def cal_average(numbers):\n",
        "  if len(number) == 0:\n",
        "    return 0\n",
        "\n",
        "  return sum(numbers) / len(numbers)\n",
        "\n",
        "# 최대값을 찾는 함수\n",
        "def find_max(numbers):\n",
        "  #1 loop형\n",
        "  max = 0\n",
        "  for n in numbers:\n",
        "    if n > max:\n",
        "      max = n\n",
        "\n",
        "  #2 간단형\n",
        "  #return max(numbers)\n",
        "\n",
        "#최소값을 찾는 함수\n",
        "def find_min(numbers):\n",
        "  return min(numbers)\n",
        "\n",
        "numbers_str = input(\"정수들을 입력하세요: \")\n",
        "# 입력된 문자열을 공백으로 구분해서 정수 리스트로 변환\n",
        "# s = \"hello world good morning\"\n",
        "# s.split() -> [\"hello\", \"world\", \"good\", \"morning\"]\n",
        "# numbers_str = \"12 3 45 67\" -> [\"12\", \"3\", \"45\", \"67\"]\n",
        "# numbers_str.split() = [12, 3, 45, 67]\n",
        "numbers = list(map(int, numbers_str.split()))\n",
        "cal_average(numbers)\n",
        "find_max(numbers)\n",
        "find_min(numbers)"
      ],
      "metadata": {
        "colab": {
          "base_uri": "https://localhost:8080/",
          "height": 243
        },
        "id": "Qsomx2Hs5MtW",
        "outputId": "c311912a-7c3c-4a2f-a53a-9dbf40579f20"
      },
      "execution_count": 18,
      "outputs": [
        {
          "name": "stdout",
          "output_type": "stream",
          "text": [
            "정수들을 입력하세요: 18 73 2 94 38 17 193 3 19 38 77 28 47 26\n"
          ]
        },
        {
          "output_type": "error",
          "ename": "ValueError",
          "evalue": "invalid literal for int() with base 10: '18 73 2 94 38 17 193 3 19 38 77 28 47 26'",
          "traceback": [
            "\u001b[0;31m---------------------------------------------------------------------------\u001b[0m",
            "\u001b[0;31mValueError\u001b[0m                                Traceback (most recent call last)",
            "\u001b[0;32m<ipython-input-18-c141e817e3cb>\u001b[0m in \u001b[0;36m<cell line: 25>\u001b[0;34m()\u001b[0m\n\u001b[1;32m     23\u001b[0m   \u001b[0;32mreturn\u001b[0m \u001b[0mmin\u001b[0m\u001b[0;34m(\u001b[0m\u001b[0mnumbers\u001b[0m\u001b[0;34m)\u001b[0m\u001b[0;34m\u001b[0m\u001b[0;34m\u001b[0m\u001b[0m\n\u001b[1;32m     24\u001b[0m \u001b[0;34m\u001b[0m\u001b[0m\n\u001b[0;32m---> 25\u001b[0;31m \u001b[0mnumbers_str\u001b[0m \u001b[0;34m=\u001b[0m \u001b[0mint\u001b[0m\u001b[0;34m(\u001b[0m\u001b[0minput\u001b[0m\u001b[0;34m(\u001b[0m\u001b[0;34m\"정수들을 입력하세요: \"\u001b[0m\u001b[0;34m)\u001b[0m\u001b[0;34m)\u001b[0m\u001b[0;34m\u001b[0m\u001b[0;34m\u001b[0m\u001b[0m\n\u001b[0m\u001b[1;32m     26\u001b[0m \u001b[0;31m# 입력된 문자열을 공백으로 구분해서 정수 리스트로 변환\u001b[0m\u001b[0;34m\u001b[0m\u001b[0;34m\u001b[0m\u001b[0m\n\u001b[1;32m     27\u001b[0m \u001b[0;31m# s = \"hello world good morning\"\u001b[0m\u001b[0;34m\u001b[0m\u001b[0;34m\u001b[0m\u001b[0m\n",
            "\u001b[0;31mValueError\u001b[0m: invalid literal for int() with base 10: '18 73 2 94 38 17 193 3 19 38 77 28 47 26'"
          ]
        }
      ]
    }
  ]
}