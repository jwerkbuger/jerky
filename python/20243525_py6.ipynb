{
  "cells": [
    {
      "cell_type": "markdown",
      "metadata": {
        "id": "E0YkfNvpimRG"
      },
      "source": [
        "실습 문제 1) 1부터 input까지의 홀수끼리의 합 구하기"
      ]
    },
    {
      "cell_type": "code",
      "execution_count": null,
      "metadata": {
        "colab": {
          "base_uri": "https://localhost:8080/"
        },
        "id": "kf2S_1Jnb6gW",
        "outputId": "523f4ea9-c21b-4224-eae3-444fd1059b79"
      },
      "outputs": [
        {
          "name": "stdout",
          "output_type": "stream",
          "text": [
            "1부터 어느수까지의 홀수만 더하시겠습니다?: 100\n",
            "1에서 100 까지 홀수의 합: 2500\n"
          ]
        }
      ],
      "source": [
        "num = int(input(\"1부터 어느수까지의 홀수만 더하시겠습니까?: \"))\n",
        "\n",
        "sum = 0\n",
        "\n",
        "for i in range(1, num+1): #num까지의 숫자를 원한다면 num+1로 적기\n",
        "  if i % 2 != 0: #나머지가 2가 아니라면 -> 홀수\n",
        "    sum += i\n",
        "\n",
        "print(\"1에서\", num,\"까지 홀수의 합:\", sum)"
      ]
    },
    {
      "cell_type": "code",
      "execution_count": null,
      "metadata": {
        "colab": {
          "base_uri": "https://localhost:8080/"
        },
        "id": "gfrk3IhIf4WX",
        "outputId": "7f730895-652c-40b0-ea2f-a137623d18b4"
      },
      "outputs": [
        {
          "name": "stdout",
          "output_type": "stream",
          "text": [
            "1부터 어느수까지의 홀수만 더하시겠습니까?(0:종료): 0\n",
            "종료합니다.\n"
          ]
        }
      ],
      "source": [
        "while True:\n",
        "  num = int(input(\"1부터 어느수까지의 홀수만 더하시겠습니까?(0:종료): \"))\n",
        "\n",
        "  sum = 0\n",
        "\n",
        "  if num == 0:\n",
        "    break;\n",
        "\n",
        "  for i in range(1, num+1): #num까지의 숫자를 원한다면 num+1로 적기\n",
        "    if i % 2 != 0: #나머지가 2가 아니라면 -> 홀수\n",
        "      sum += i\n",
        "\n",
        "  print(\"1에서 {}까지 홀수의 합: {}\".format(num, sum))\n",
        "\n",
        "print(\"종료합니다.\")"
      ]
    },
    {
      "cell_type": "markdown",
      "metadata": {
        "id": "xS-QZJQiiy0d"
      },
      "source": [
        "실습 문제 2) 장군 이름 출력하기"
      ]
    },
    {
      "cell_type": "code",
      "execution_count": null,
      "metadata": {
        "colab": {
          "base_uri": "https://localhost:8080/"
        },
        "id": "gvtuDncqgsVv",
        "outputId": "b18aca2d-bb93-41a8-fd27-b07be187a652"
      },
      "outputs": [
        {
          "name": "stdout",
          "output_type": "stream",
          "text": [
            "몇명의 장군을 입력하시겠습니까?: 4\n",
            "장군의 이름을 입력하세요: dkdl\n",
            "장군의 이름을 입력하세요: sdsds\n",
            "장군의 이름을 입력하세요: qwqw\n",
            "장군의 이름을 입력하세요: rree\n",
            "1: dkdl 장군님 반갑습니다!\n",
            "2: sdsds 장군님 반갑습니다!\n",
            "3: qwqw 장군님 반갑습니다!\n",
            "4: rree 장군님 반갑습니다!\n"
          ]
        }
      ],
      "source": [
        "general_num = int(input(\"몇명의 장군을 입력하시겠습니까?: \"))\n",
        "\n",
        "generals = []\n",
        "\n",
        "for i in range(general_num):\n",
        "  name = input(\"장군의 이름을 입력하세요: \")\n",
        "  generals.append(name)\n",
        "\n",
        "index = 1\n",
        "\n",
        "for general in generals:\n",
        "  print(\"{}: {} 장군님 반갑습니다!\".format(index, general))\n",
        "  index += 1"
      ]
    },
    {
      "cell_type": "code",
      "execution_count": null,
      "metadata": {
        "id": "67OCQ4RGitN2"
      },
      "outputs": [],
      "source": [
        "general_num = int(input(\"몇명의 장군을 입력하시겠습니까?: \"))\n",
        "\n",
        "generals = []\n",
        "\n",
        "for i in range(general_num):\n",
        "  name = input(\"장군의 이름을 입력하세요: \")\n",
        "  generals.append(name)\n",
        "\n",
        "#enumerate()\n",
        "for i, general in enumerate(generals, start = 1): #start = 1 -> 1부터 시작\n",
        "  print(\"{}: {} 장군님 반갑습니다!\".format(i, general))"
      ]
    },
    {
      "cell_type": "markdown",
      "metadata": {
        "id": "5pGXvAJKj2P1"
      },
      "source": [
        "실습 문제 3) 구구단 출력하기"
      ]
    },
    {
      "cell_type": "code",
      "execution_count": 1,
      "metadata": {
        "id": "-Z7uEdbHj1oW"
      },
      "outputs": [
        {
          "name": "stdout",
          "output_type": "stream",
          "text": [
            "*** 2단 ***\n",
            "2 * 1 = 2\n",
            "2 * 2 = 4\n",
            "2 * 3 = 6\n",
            "2 * 4 = 8\n",
            "2 * 5 = 10\n",
            "2 * 6 = 12\n",
            "2 * 7 = 14\n",
            "2 * 8 = 16\n",
            "2 * 9 = 18\n",
            "\n",
            "*** 3단 ***\n",
            "3 * 1 = 3\n",
            "3 * 2 = 6\n",
            "3 * 3 = 9\n",
            "3 * 4 = 12\n",
            "3 * 5 = 15\n",
            "3 * 6 = 18\n",
            "3 * 7 = 21\n",
            "3 * 8 = 24\n",
            "3 * 9 = 27\n",
            "\n",
            "*** 4단 ***\n",
            "4 * 1 = 4\n",
            "4 * 2 = 8\n",
            "4 * 3 = 12\n",
            "4 * 4 = 16\n",
            "4 * 5 = 20\n",
            "4 * 6 = 24\n",
            "4 * 7 = 28\n",
            "4 * 8 = 32\n",
            "4 * 9 = 36\n",
            "\n",
            "*** 5단 ***\n",
            "5 * 1 = 5\n",
            "5 * 2 = 10\n",
            "5 * 3 = 15\n",
            "5 * 4 = 20\n",
            "5 * 5 = 25\n",
            "5 * 6 = 30\n",
            "5 * 7 = 35\n",
            "5 * 8 = 40\n",
            "5 * 9 = 45\n",
            "\n",
            "*** 6단 ***\n",
            "6 * 1 = 6\n",
            "6 * 2 = 12\n",
            "6 * 3 = 18\n",
            "6 * 4 = 24\n",
            "6 * 5 = 30\n",
            "6 * 6 = 36\n",
            "6 * 7 = 42\n",
            "6 * 8 = 48\n",
            "6 * 9 = 54\n",
            "\n",
            "*** 7단 ***\n",
            "7 * 1 = 7\n",
            "7 * 2 = 14\n",
            "7 * 3 = 21\n",
            "7 * 4 = 28\n",
            "7 * 5 = 35\n",
            "7 * 6 = 42\n",
            "7 * 7 = 49\n",
            "7 * 8 = 56\n",
            "7 * 9 = 63\n",
            "\n",
            "*** 8단 ***\n",
            "8 * 1 = 8\n",
            "8 * 2 = 16\n",
            "8 * 3 = 24\n",
            "8 * 4 = 32\n",
            "8 * 5 = 40\n",
            "8 * 6 = 48\n",
            "8 * 7 = 56\n",
            "8 * 8 = 64\n",
            "8 * 9 = 72\n",
            "\n",
            "*** 9단 ***\n",
            "9 * 1 = 9\n",
            "9 * 2 = 18\n",
            "9 * 3 = 27\n",
            "9 * 4 = 36\n",
            "9 * 5 = 45\n",
            "9 * 6 = 54\n",
            "9 * 7 = 63\n",
            "9 * 8 = 72\n",
            "9 * 9 = 81\n",
            "\n"
          ]
        }
      ],
      "source": [
        "for i in range(2, 10):\n",
        "  print(\"*** {}단 ***\".format(i))\n",
        "  for j in range(1, 10):\n",
        "    print(\"{} * {} = {}\".format(i, j, i * j))\n",
        "  print(\"\")"
      ]
    },
    {
      "cell_type": "markdown",
      "metadata": {
        "id": "N3ZpjZ35laad"
      },
      "source": [
        " 실습 문제 4) 다이아몬드 출력하기"
      ]
    },
    {
      "cell_type": "code",
      "execution_count": null,
      "metadata": {
        "colab": {
          "base_uri": "https://localhost:8080/"
        },
        "id": "d_1ZSM_1le7F",
        "outputId": "eba9e175-7a0d-42c9-9506-f63f28c8bfce"
      },
      "outputs": [
        {
          "name": "stdout",
          "output_type": "stream",
          "text": [
            "다이아몬드의 크기(홀수): 13\n",
            "      *\n",
            "     ***\n",
            "    *****\n",
            "   *******\n",
            "  *********\n",
            " ***********\n",
            "*************\n",
            " ***********\n",
            "  *********\n",
            "   *******\n",
            "    *****\n",
            "     ***\n",
            "      *\n"
          ]
        }
      ],
      "source": [
        "size = int(input(\"다이아몬드의 크기(홀수): \"))\n",
        "\n",
        "for i in range(1, size + 1, 2):\n",
        "  print(\" \" * ((size - i) // 2) + \"*\" * i)\n",
        "  #print(\"*\" * i)\n",
        "\n",
        "for i in range(size - 2, 0, -2): #2번째 줄부터\n",
        "  print(\" \" * ((size - i) // 2) + \"*\" * i)"
      ]
    },
    {
      "cell_type": "code",
      "execution_count": null,
      "metadata": {
        "colab": {
          "base_uri": "https://localhost:8080/"
        },
        "id": "KVRtF_NEutrS",
        "outputId": "4064cdb2-2b31-4d73-9e0c-6dd2f3ce7390"
      },
      "outputs": [
        {
          "name": "stdout",
          "output_type": "stream",
          "text": [
            "   * \n",
            "  * * \n",
            " * * * \n",
            "* * * * \n"
          ]
        }
      ],
      "source": [
        "#파이썬프로그래밍 시간 별 찍기\n",
        "for i in range(4):\n",
        "\n",
        "    print(' '*(4-(i+1)),end='')\n",
        "\n",
        "    print('* '*(i+1))\n",
        "\n",
        "    # for j in range(i+1):\n",
        "\n",
        "    #     print('* ', end='')\n",
        "\n",
        "\n",
        "\n",
        "    # print(\"\")"
      ]
    },
    {
      "cell_type": "markdown",
      "metadata": {
        "id": "5MMDJwCEtLhy"
      },
      "source": [
        "실습 문제 5) 팩토리얼 계산"
      ]
    },
    {
      "cell_type": "code",
      "execution_count": null,
      "metadata": {
        "colab": {
          "base_uri": "https://localhost:8080/"
        },
        "id": "ApFc7WIvtQhq",
        "outputId": "91a8582d-f2b3-4a8c-84ca-61108cee8e90"
      },
      "outputs": [
        {
          "name": "stdout",
          "output_type": "stream",
          "text": [
            "팩토리얼 게산을 원하는 값 입력: 10\n",
            "10! = 3628800\n"
          ]
        }
      ],
      "source": [
        "num = int(input(\"팩토리얼 게산을 원하는 값 입력: \"))\n",
        "\n",
        "factorial = 1 #곱하기는 0이 아닌 1로 초기화 합계는 1\n",
        "i = 1\n",
        "\n",
        "while i <= num:\n",
        "  factorial *= i\n",
        "  i += 1\n",
        "\n",
        "print(\"{}! = {}\".format(num, factorial))"
      ]
    },
    {
      "cell_type": "markdown",
      "metadata": {
        "id": "aJSzg7vjvNA5"
      },
      "source": [
        "실습 문제 6) 숫자 알아내기\n",
        "\n",
        "import random\n",
        "\n",
        "random.randrange() 종료점에서 본인 포함X  #9까지라면 9+1\n",
        "random.randint() 종료 지점까지 포함  #9까지라면 9\n",
        "\n",
        "num = [1,2,3,4,5]\n",
        "str - ['park', 'kim', 'lee']\n",
        "random.choice(num)/rnadom.choice(str) *유용한 친구\n",
        "랜덤하게 리스트 뽑아주는 함수"
      ]
    },
    {
      "cell_type": "code",
      "execution_count": null,
      "metadata": {
        "colab": {
          "base_uri": "https://localhost:8080/"
        },
        "id": "XLMDrKUgvR3Z",
        "outputId": "4c95d619-695e-49b5-d3c5-1e91b1dd3b45"
      },
      "outputs": [
        {
          "name": "stdout",
          "output_type": "stream",
          "text": [
            "숫자를 입력하시오: 70\n",
            "DOWN!\n",
            "숫자를 입력하시오: 25\n",
            "UP!\n",
            "숫자를 입력하시오: 50\n",
            "DOWN!\n",
            "숫자를 입력하시오: 30\n",
            "UP!\n",
            "숫자를 입력하시오: 40\n",
            "5번 시도만에 정답~\n"
          ]
        }
      ],
      "source": [
        "import random\n",
        "\n",
        "answer = random.randint(1, 100)\n",
        "#answer = random.randrange(1, 100+1)\n",
        "\n",
        "trial = 0\n",
        "\n",
        "while trial <= 10:\n",
        "  num = int(input(\"숫자를 입력하시오: \"))\n",
        "  trial += 1\n",
        "\n",
        "  if num < answer:\n",
        "    print(\"UP!\")\n",
        "  elif num > answer:\n",
        "    print(\"DOWN!\")\n",
        "  else:\n",
        "    print(\"{}번 시도만에 정답~\".format(trial))\n",
        "    break\n",
        "\n",
        "if trial > 10:\n",
        "  print(\"시도 횟수 초과. 정답은 {}입니다.\".format(answer))\n"
      ]
    },
    {
      "cell_type": "markdown",
      "metadata": {
        "id": "4Uv8X5jGycyQ"
      },
      "source": [
        "실습 문제 7) 범인 찾기 게임"
      ]
    },
    {
      "cell_type": "code",
      "execution_count": null,
      "metadata": {
        "colab": {
          "base_uri": "https://localhost:8080/"
        },
        "id": "_tod-PsuyhmY",
        "outputId": "00178e4a-a635-4e37-80e3-db444983e6ed"
      },
      "outputs": [
        {
          "name": "stdout",
          "output_type": "stream",
          "text": [
            "방 번호를 입력하세요: 1\n",
            "범 인 검 거\n",
            "게임종료! 점수는 100점입니다.\n"
          ]
        }
      ],
      "source": [
        "import random\n",
        "\n",
        "score = 0\n",
        "\n",
        "while True:\n",
        "  room = random.randint(1, 3)\n",
        "  num = int(input(\"방 번호를 입력하세요: \"))\n",
        "\n",
        "  if room == num:\n",
        "    print(\"범 인 검 거\")\n",
        "    score += 100\n",
        "    break\n",
        "  elif num > 3:\n",
        "    print(\"{}방은 존재하지 않습니다.\".format(num))\n",
        "    score -= 10\n",
        "  else:\n",
        "    print(\"{}방에는 범인이 없습니다.\".format(num))\n",
        "    score -= 10\n",
        "\n",
        "print(\"게임종료! 점수는 {}점입니다.\".format(score))"
      ]
    },
    {
      "cell_type": "markdown",
      "metadata": {
        "id": "WdD9eru8zmVY"
      },
      "source": [
        "실습 문제 8) 모든 약수 구하기"
      ]
    },
    {
      "cell_type": "code",
      "execution_count": null,
      "metadata": {
        "colab": {
          "base_uri": "https://localhost:8080/"
        },
        "id": "4DyFNllNzpjH",
        "outputId": "7e571869-b32a-408a-b7f6-c90154e54187"
      },
      "outputs": [
        {
          "name": "stdout",
          "output_type": "stream",
          "text": [
            "자연수 입력: 6\n",
            "1 2 3 6 "
          ]
        }
      ],
      "source": [
        "num = int(input(\"자연수 입력: \"))\n",
        "\n",
        "for i in range(1, num + 1):\n",
        "  if num % i == 0:\n",
        "    print(i, end = \" \")"
      ]
    }
  ],
  "metadata": {
    "colab": {
      "provenance": []
    },
    "kernelspec": {
      "display_name": "Python 3",
      "name": "python3"
    },
    "language_info": {
      "codemirror_mode": {
        "name": "ipython",
        "version": 3
      },
      "file_extension": ".py",
      "mimetype": "text/x-python",
      "name": "python",
      "nbconvert_exporter": "python",
      "pygments_lexer": "ipython3",
      "version": "3.11.9"
    }
  },
  "nbformat": 4,
  "nbformat_minor": 0
}
