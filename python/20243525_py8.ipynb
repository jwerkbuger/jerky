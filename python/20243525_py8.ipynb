{
  "nbformat": 4,
  "nbformat_minor": 0,
  "metadata": {
    "colab": {
      "provenance": []
    },
    "kernelspec": {
      "name": "python3",
      "display_name": "Python 3"
    },
    "language_info": {
      "name": "python"
    }
  },
  "cells": [
    {
      "cell_type": "code",
      "execution_count": null,
      "metadata": {
        "colab": {
          "base_uri": "https://localhost:8080/"
        },
        "id": "IOZWbo-1pLm6",
        "outputId": "f45f10c4-62f5-4bc6-839a-ef79119fda37"
      },
      "outputs": [
        {
          "output_type": "stream",
          "name": "stdout",
          "text": [
            "명령을 입력하세요: (삽입 삭제 끝)끝\n",
            "프로그램을 종료합니다.\n"
          ]
        }
      ],
      "source": [
        "# 실습1\n",
        "\n",
        "def calculate_average(numbers) : # 인자로 주어진 리스트의 평균을 구하는 함수\n",
        "  if len(numbers) == 0: # 비어있는 리스트의 대한 처리\n",
        "    return 0\n",
        "  return sum(numbers) / len(numbers)\n",
        "\n",
        "numbers = []\n",
        "\n",
        "while True:\n",
        "  command = input(\"명령을 입력하세요: (삽입 삭제 끝)\")\n",
        "\n",
        "  if command == \"끝\":\n",
        "    print(\"프로그램을 종료합니다.\")\n",
        "    break\n",
        "\n",
        "  elif command == \"삽입\":\n",
        "    data = int(input(\"데이터를 입력하세요: \"))\n",
        "    numbers.append(data)\n",
        "    average = calculate_average(numbers)\n",
        "    print(\"{} avg: {:.2f}\".format(numbers, average))\n",
        "\n",
        "  elif command == \"삭제\":\n",
        "    if len(numbers) != 0:\n",
        "      numbers.pop()\n",
        "      average = calculate_average(numbers)\n",
        "      print(\"{} avg: {:.2f}\".format(numbers, average))\n",
        "    else:\n",
        "      print(\"리스트가 비어있습니다.\")\n",
        "\n",
        "  else:\n",
        "    print(\"지원하지 않는 명령어입니다.\")"
      ]
    },
    {
      "cell_type": "code",
      "source": [
        "# 실습2 내가 해보던 거\n",
        "\n",
        "scores = []\n",
        "\n",
        "score = int(input(\"성적을 입력하세요: \"))\n",
        "scores.append(score)\n",
        "\n",
        "def calculate_average(scores) : # 인자로 주어진 리스트의 평균을 구하는 함수\n",
        "  if len(scores) == 0: # 비어있는 리스트의 대한 처리\n",
        "    return 0\n",
        "  return sum(scores) / len(scores)\n",
        "\n",
        "average = calculate_average(scores)\n",
        "\n",
        "def find_max(scores):\n",
        "  return max(scores)\n",
        "\n",
        "def find_min(scores):\n",
        "  return min(scores)\n",
        "\n",
        "sum = 0\n",
        "\n",
        "if score >= 90:\n",
        "  sum += 1\n",
        "\n",
        "print(\"90점 이상 학생: {}명\".format(sum))"
      ],
      "metadata": {
        "id": "b3GhRiAOtXWy"
      },
      "execution_count": null,
      "outputs": []
    },
    {
      "cell_type": "code",
      "source": [
        "# 실습2\n",
        "\n",
        "def calculate_average(scores) : # 인자로 주어진 리스트의 평균을 구하는 함수\n",
        "  if len(scores) == 0: # 비어있는 리스트의 대한 처리\n",
        "    return 0\n",
        "  return sum(scores) / len(scores)\n",
        "\n",
        "scores = []\n",
        "\n",
        "for i in range(5):\n",
        "  score = int(input(\"성적을 입력하세요: \"))\n",
        "  scores.append(score)\n",
        "\n",
        "print(scores)\n",
        "\n",
        "# 평균 점수\n",
        "average = calculate_average(scores)\n",
        "print(\"평균 점수 : {:.2f}\".format(average))\n",
        "\n",
        "# 최고 점수\n",
        "print(\"최고 점수 : {}\".format(max(scores)))\n",
        "\n",
        "# 최저 점수\n",
        "print(\"최저 점수 : {}\".format(min(scores)))\n",
        "\n",
        "# 90점 이상 학생 수\n",
        "count = 0\n",
        "for i in scores:\n",
        "  if i >= 90:\n",
        "    count += 1\n",
        "\n",
        "print(\"90점 이상 학생 : {}명\".format(count))\n",
        "\n",
        "# 90점 이상 학생 수2\n",
        "# for루프의 리스트 컴프리헨션\n",
        "# 표현식 for 항목 in 리스트 if 조건문\n",
        "count2 = len([score for score in scores if score >= 90])\n",
        "print(\"90점 이상 학생 : {}명\".format(count2))"
      ],
      "metadata": {
        "colab": {
          "base_uri": "https://localhost:8080/"
        },
        "id": "0AAdLv_GvItE",
        "outputId": "710e70ed-f1a7-49e0-d965-ee37d905ff06"
      },
      "execution_count": null,
      "outputs": [
        {
          "output_type": "stream",
          "name": "stdout",
          "text": [
            "성적을 입력하세요: 71\n",
            "성적을 입력하세요: 99\n",
            "성적을 입력하세요: 57\n",
            "성적을 입력하세요: 64\n",
            "성적을 입력하세요: 92\n",
            "[71, 99, 57, 64, 92]\n",
            "평균 : 76.60\n",
            "최대값 : 99\n",
            "최소값 : 57\n",
            "90점 이상 학생 : 2명\n",
            "90점 이상 학생 : 2명\n"
          ]
        }
      ]
    },
    {
      "cell_type": "code",
      "source": [
        "# 실습3\n",
        "\n",
        "def get_student_info():\n",
        "  student_id = input(\"학번: \")\n",
        "  name = input(\"이름: \")\n",
        "  korean = int(input(\"국어: \"))\n",
        "  english = int(input(\"영어: \"))\n",
        "  math = int(input(\"수학: \"))\n",
        "  total = korean + english + math\n",
        "\n",
        "  return [student_id, name, korean, english, math, total]\n",
        "\n",
        "students = []\n",
        "\n",
        "for i in range(5):\n",
        "  student = get_student_info()\n",
        "  students.append(student) # 리스트안에 리스트를 몇개든 넣어도 상관없다\n",
        "\n",
        "print(\"정렬 전 데이터: \")\n",
        "print(students)\n",
        "\n",
        "# 이름 순 정렬\n",
        "students_sorted_by_name = sorted(students, key = lambda x : x[1])\n",
        "print(\"정렬 후 데이터: \")\n",
        "print(students_sorted_by_name)\n",
        "\n",
        "# 총점 순 정렬\n",
        "students_sorted_by_total = sorted(students, key = lambda x : x[-1])\n",
        "print(\"정렬 후 데이터: \")\n",
        "print(students_sorted_by_total)"
      ],
      "metadata": {
        "id": "G77JPrUDx-c-"
      },
      "execution_count": null,
      "outputs": []
    }
  ]
}