{
  "nbformat": 4,
  "nbformat_minor": 0,
  "metadata": {
    "colab": {
      "provenance": []
    },
    "kernelspec": {
      "name": "python3",
      "display_name": "Python 3"
    },
    "language_info": {
      "name": "python"
    }
  },
  "cells": [
    {
      "cell_type": "code",
      "source": [
        "#문제 1번\n",
        "\n",
        "x = int(input(\"정수=\"))\n",
        "\n",
        "y = x//1000 + (x//100 - x//1000*10) + (x//10 - x//100*10) + (x - x//10*10)\n",
        "\n",
        "print(y)\n"
      ],
      "metadata": {
        "colab": {
          "base_uri": "https://localhost:8080/"
        },
        "id": "eLGfRzQcgknZ",
        "outputId": "237ead85-5ff3-4de4-ace7-e40b430fd3d6"
      },
      "execution_count": 33,
      "outputs": [
        {
          "output_type": "stream",
          "name": "stdout",
          "text": [
            "정수=1234\n",
            "10\n"
          ]
        }
      ]
    },
    {
      "cell_type": "code",
      "source": [
        "#문제 2번\n",
        "#10000~1000\n",
        "x = int(input(\"숫자를 입력하시오: \"))\n",
        "\n",
        "y1 = x//1000\n",
        "y2 = x % 1000\n",
        "\n",
        "print(\"{0},{1:03d}\".format(y1, y2))"
      ],
      "metadata": {
        "colab": {
          "base_uri": "https://localhost:8080/"
        },
        "id": "mCBtrIV-hBj6",
        "outputId": "1cc2d6f3-ffb8-4a2d-dde8-c51a0fa07428"
      },
      "execution_count": 41,
      "outputs": [
        {
          "output_type": "stream",
          "name": "stdout",
          "text": [
            "숫자를 입력하시오: 5040\n",
            "5,040\n"
          ]
        }
      ]
    },
    {
      "cell_type": "code",
      "source": [
        "#문제 3번\n",
        "import random\n",
        "while True:\n",
        "  keeper = random.randint(1, 3)\n",
        "  attack = int(input(\"어디를 공격하시겠어요?(왼쪽: 1, 중앙: 2, 오른쪽: 3)\"))\n",
        "  if keeper == attack:\n",
        "    print(\"페날티킥이 성공하였습니다.\")\n",
        "  else:\n",
        "    print(\"페날티킥이 실패하였습니다.\")\n",
        "  break"
      ],
      "metadata": {
        "colab": {
          "base_uri": "https://localhost:8080/"
        },
        "id": "CKYXwLQajVxm",
        "outputId": "8995f6dc-bb6d-4ebd-cec2-1475308fd311"
      },
      "execution_count": 10,
      "outputs": [
        {
          "output_type": "stream",
          "name": "stdout",
          "text": [
            "어디를 공격하시겠어요?(왼쪽: 1, 중앙: 2, 오른쪽: 3)2\n",
            "페날티킥이 성공하였습니다.\n"
          ]
        }
      ]
    },
    {
      "cell_type": "code",
      "source": [
        "#문제 4번\n",
        "year = int(input(\"연도를 입력하시오: \"))\n",
        "\n",
        "if year % 4 == 0:\n",
        "  if year % 100 != 0:\n",
        "    print(\"윤년입니다.\")\n",
        "  else:\n",
        "    print(\"윤년이 아닙니다.\")\n",
        "elif year % 400 == 0:\n",
        "  print(\"운년입니다.\")\n",
        "else:\n",
        "  print(\"윤년이 아닙니다.\")"
      ],
      "metadata": {
        "colab": {
          "base_uri": "https://localhost:8080/"
        },
        "id": "IWJ3l_t5k2Yc",
        "outputId": "8aa76b89-8772-4329-ec50-59fcdfe77e4b"
      },
      "execution_count": 43,
      "outputs": [
        {
          "output_type": "stream",
          "name": "stdout",
          "text": [
            "연도를 입력하시오: 2040\n",
            "윤년입니다.\n"
          ]
        }
      ]
    },
    {
      "cell_type": "code",
      "source": [
        "#문제 5번\n",
        "sum = 0\n",
        "for i in range(1, 1001):\n",
        "  if i % 3 == 0:\n",
        "    sum += i\n",
        "\n",
        "print(\"1부터 1000 사이의 모든 3의 배수의 합은 \"+str(sum)+\"입니다.\")"
      ],
      "metadata": {
        "colab": {
          "base_uri": "https://localhost:8080/"
        },
        "id": "d53uAvkXlsGJ",
        "outputId": "e339cb05-c5a6-4944-eb11-e164449e0b42"
      },
      "execution_count": 17,
      "outputs": [
        {
          "output_type": "stream",
          "name": "stdout",
          "text": [
            "1부터 1000 사이의 모든 3의 배수의 합은 166833입니다.\n"
          ]
        }
      ]
    },
    {
      "cell_type": "code",
      "source": [
        "#문제 6번\n",
        "for i in range(1, 10):\n",
        "  if i % 3 == 0:\n",
        "    print(\"three\")\n",
        "  elif i % 5 ==0:\n",
        "    print(\"five\")\n",
        "  else:\n",
        "    print(\"*\")"
      ],
      "metadata": {
        "colab": {
          "base_uri": "https://localhost:8080/"
        },
        "id": "xiJmFc9dmaYw",
        "outputId": "e78db2d8-3f05-4097-b1df-8b150ffd826d"
      },
      "execution_count": 18,
      "outputs": [
        {
          "output_type": "stream",
          "name": "stdout",
          "text": [
            "*\n",
            "*\n",
            "three\n",
            "*\n",
            "five\n",
            "three\n",
            "*\n",
            "*\n",
            "three\n"
          ]
        }
      ]
    },
    {
      "cell_type": "code",
      "source": [
        "#문제 7번\n",
        "list = [20, 1, 12, 9, 18]\n",
        "\n",
        "for i in range(5):\n",
        "  print(list[i], end='')\n",
        "  print(\" \"*5, \"*\"*list[i])"
      ],
      "metadata": {
        "colab": {
          "base_uri": "https://localhost:8080/"
        },
        "id": "Ff6Nzxd5mwE-",
        "outputId": "f6d80634-cb5a-4e23-cc7e-e7a20b89f66e"
      },
      "execution_count": 68,
      "outputs": [
        {
          "output_type": "stream",
          "name": "stdout",
          "text": [
            "20      ********************\n",
            "1      *\n",
            "12      ************\n",
            "9      *********\n",
            "18      ******************\n"
          ]
        }
      ]
    }
  ]
}